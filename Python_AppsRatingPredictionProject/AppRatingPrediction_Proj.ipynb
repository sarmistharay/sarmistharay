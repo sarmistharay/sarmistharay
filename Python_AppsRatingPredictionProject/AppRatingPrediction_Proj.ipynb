{
 "cells": [
  {
   "cell_type": "markdown",
   "metadata": {},
   "source": [
    "#### Importing the libraries for the Project."
   ]
  },
  {
   "cell_type": "code",
   "execution_count": 1,
   "metadata": {},
   "outputs": [],
   "source": [
    "import pandas as pd\n",
    "import seaborn as sns\n",
    "from matplotlib import pyplot as plt\n",
    "import numpy as np\n",
    "from sklearn.model_selection import train_test_split"
   ]
  },
  {
   "cell_type": "code",
   "execution_count": 2,
   "metadata": {},
   "outputs": [
    {
     "data": {
      "text/html": [
       "<div>\n",
       "<style scoped>\n",
       "    .dataframe tbody tr th:only-of-type {\n",
       "        vertical-align: middle;\n",
       "    }\n",
       "\n",
       "    .dataframe tbody tr th {\n",
       "        vertical-align: top;\n",
       "    }\n",
       "\n",
       "    .dataframe thead th {\n",
       "        text-align: right;\n",
       "    }\n",
       "</style>\n",
       "<table border=\"1\" class=\"dataframe\">\n",
       "  <thead>\n",
       "    <tr style=\"text-align: right;\">\n",
       "      <th></th>\n",
       "      <th>App</th>\n",
       "      <th>Category</th>\n",
       "      <th>Rating</th>\n",
       "      <th>Reviews</th>\n",
       "      <th>Size</th>\n",
       "      <th>Installs</th>\n",
       "      <th>Type</th>\n",
       "      <th>Price</th>\n",
       "      <th>Content Rating</th>\n",
       "      <th>Genres</th>\n",
       "      <th>Last Updated</th>\n",
       "      <th>Current Ver</th>\n",
       "      <th>Android Ver</th>\n",
       "    </tr>\n",
       "  </thead>\n",
       "  <tbody>\n",
       "    <tr>\n",
       "      <th>0</th>\n",
       "      <td>Photo Editor &amp; Candy Camera &amp; Grid &amp; ScrapBook</td>\n",
       "      <td>ART_AND_DESIGN</td>\n",
       "      <td>4.1</td>\n",
       "      <td>159</td>\n",
       "      <td>19M</td>\n",
       "      <td>10,000+</td>\n",
       "      <td>Free</td>\n",
       "      <td>0</td>\n",
       "      <td>Everyone</td>\n",
       "      <td>Art &amp; Design</td>\n",
       "      <td>January 7, 2018</td>\n",
       "      <td>1.0.0</td>\n",
       "      <td>4.0.3 and up</td>\n",
       "    </tr>\n",
       "    <tr>\n",
       "      <th>1</th>\n",
       "      <td>Coloring book moana</td>\n",
       "      <td>ART_AND_DESIGN</td>\n",
       "      <td>3.9</td>\n",
       "      <td>967</td>\n",
       "      <td>14M</td>\n",
       "      <td>500,000+</td>\n",
       "      <td>Free</td>\n",
       "      <td>0</td>\n",
       "      <td>Everyone</td>\n",
       "      <td>Art &amp; Design;Pretend Play</td>\n",
       "      <td>January 15, 2018</td>\n",
       "      <td>2.0.0</td>\n",
       "      <td>4.0.3 and up</td>\n",
       "    </tr>\n",
       "    <tr>\n",
       "      <th>2</th>\n",
       "      <td>U Launcher Lite – FREE Live Cool Themes, Hide ...</td>\n",
       "      <td>ART_AND_DESIGN</td>\n",
       "      <td>4.7</td>\n",
       "      <td>87510</td>\n",
       "      <td>8.7M</td>\n",
       "      <td>5,000,000+</td>\n",
       "      <td>Free</td>\n",
       "      <td>0</td>\n",
       "      <td>Everyone</td>\n",
       "      <td>Art &amp; Design</td>\n",
       "      <td>August 1, 2018</td>\n",
       "      <td>1.2.4</td>\n",
       "      <td>4.0.3 and up</td>\n",
       "    </tr>\n",
       "    <tr>\n",
       "      <th>3</th>\n",
       "      <td>Sketch - Draw &amp; Paint</td>\n",
       "      <td>ART_AND_DESIGN</td>\n",
       "      <td>4.5</td>\n",
       "      <td>215644</td>\n",
       "      <td>25M</td>\n",
       "      <td>50,000,000+</td>\n",
       "      <td>Free</td>\n",
       "      <td>0</td>\n",
       "      <td>Teen</td>\n",
       "      <td>Art &amp; Design</td>\n",
       "      <td>June 8, 2018</td>\n",
       "      <td>Varies with device</td>\n",
       "      <td>4.2 and up</td>\n",
       "    </tr>\n",
       "    <tr>\n",
       "      <th>4</th>\n",
       "      <td>Pixel Draw - Number Art Coloring Book</td>\n",
       "      <td>ART_AND_DESIGN</td>\n",
       "      <td>4.3</td>\n",
       "      <td>967</td>\n",
       "      <td>2.8M</td>\n",
       "      <td>100,000+</td>\n",
       "      <td>Free</td>\n",
       "      <td>0</td>\n",
       "      <td>Everyone</td>\n",
       "      <td>Art &amp; Design;Creativity</td>\n",
       "      <td>June 20, 2018</td>\n",
       "      <td>1.1</td>\n",
       "      <td>4.4 and up</td>\n",
       "    </tr>\n",
       "  </tbody>\n",
       "</table>\n",
       "</div>"
      ],
      "text/plain": [
       "                                                 App        Category  Rating  \\\n",
       "0     Photo Editor & Candy Camera & Grid & ScrapBook  ART_AND_DESIGN     4.1   \n",
       "1                                Coloring book moana  ART_AND_DESIGN     3.9   \n",
       "2  U Launcher Lite – FREE Live Cool Themes, Hide ...  ART_AND_DESIGN     4.7   \n",
       "3                              Sketch - Draw & Paint  ART_AND_DESIGN     4.5   \n",
       "4              Pixel Draw - Number Art Coloring Book  ART_AND_DESIGN     4.3   \n",
       "\n",
       "  Reviews  Size     Installs  Type Price Content Rating  \\\n",
       "0     159   19M      10,000+  Free     0       Everyone   \n",
       "1     967   14M     500,000+  Free     0       Everyone   \n",
       "2   87510  8.7M   5,000,000+  Free     0       Everyone   \n",
       "3  215644   25M  50,000,000+  Free     0           Teen   \n",
       "4     967  2.8M     100,000+  Free     0       Everyone   \n",
       "\n",
       "                      Genres      Last Updated         Current Ver  \\\n",
       "0               Art & Design   January 7, 2018               1.0.0   \n",
       "1  Art & Design;Pretend Play  January 15, 2018               2.0.0   \n",
       "2               Art & Design    August 1, 2018               1.2.4   \n",
       "3               Art & Design      June 8, 2018  Varies with device   \n",
       "4    Art & Design;Creativity     June 20, 2018                 1.1   \n",
       "\n",
       "    Android Ver  \n",
       "0  4.0.3 and up  \n",
       "1  4.0.3 and up  \n",
       "2  4.0.3 and up  \n",
       "3    4.2 and up  \n",
       "4    4.4 and up  "
      ]
     },
     "execution_count": 2,
     "metadata": {},
     "output_type": "execute_result"
    }
   ],
   "source": [
    "all_data = pd.read_csv('../Dataset_Python/googleplaystore.csv')\n",
    "all_data.head()"
   ]
  },
  {
   "cell_type": "markdown",
   "metadata": {},
   "source": [
    "#### Checking the number of records uploaded."
   ]
  },
  {
   "cell_type": "code",
   "execution_count": 3,
   "metadata": {},
   "outputs": [
    {
     "data": {
      "text/plain": [
       "(10841, 13)"
      ]
     },
     "execution_count": 3,
     "metadata": {},
     "output_type": "execute_result"
    }
   ],
   "source": [
    "all_data.shape"
   ]
  },
  {
   "cell_type": "markdown",
   "metadata": {},
   "source": [
    "#### Checking the number of not null values in each column."
   ]
  },
  {
   "cell_type": "code",
   "execution_count": 4,
   "metadata": {},
   "outputs": [
    {
     "name": "stdout",
     "output_type": "stream",
     "text": [
      "<class 'pandas.core.frame.DataFrame'>\n",
      "RangeIndex: 10841 entries, 0 to 10840\n",
      "Data columns (total 13 columns):\n",
      " #   Column          Non-Null Count  Dtype  \n",
      "---  ------          --------------  -----  \n",
      " 0   App             10841 non-null  object \n",
      " 1   Category        10841 non-null  object \n",
      " 2   Rating          9367 non-null   float64\n",
      " 3   Reviews         10841 non-null  object \n",
      " 4   Size            10841 non-null  object \n",
      " 5   Installs        10841 non-null  object \n",
      " 6   Type            10840 non-null  object \n",
      " 7   Price           10841 non-null  object \n",
      " 8   Content Rating  10840 non-null  object \n",
      " 9   Genres          10841 non-null  object \n",
      " 10  Last Updated    10841 non-null  object \n",
      " 11  Current Ver     10833 non-null  object \n",
      " 12  Android Ver     10838 non-null  object \n",
      "dtypes: float64(1), object(12)\n",
      "memory usage: 1.1+ MB\n"
     ]
    }
   ],
   "source": [
    "all_data.info()"
   ]
  },
  {
   "cell_type": "markdown",
   "metadata": {},
   "source": [
    "#### Checking the number of null values in each column."
   ]
  },
  {
   "cell_type": "code",
   "execution_count": 5,
   "metadata": {},
   "outputs": [
    {
     "data": {
      "text/plain": [
       "App                  0\n",
       "Category             0\n",
       "Rating            1474\n",
       "Reviews              0\n",
       "Size                 0\n",
       "Installs             0\n",
       "Type                 1\n",
       "Price                0\n",
       "Content Rating       1\n",
       "Genres               0\n",
       "Last Updated         0\n",
       "Current Ver          8\n",
       "Android Ver          3\n",
       "dtype: int64"
      ]
     },
     "execution_count": 5,
     "metadata": {},
     "output_type": "execute_result"
    }
   ],
   "source": [
    "all_data.isnull().sum()"
   ]
  },
  {
   "cell_type": "markdown",
   "metadata": {},
   "source": [
    "#### Deleting the null values."
   ]
  },
  {
   "cell_type": "code",
   "execution_count": 6,
   "metadata": {},
   "outputs": [
    {
     "data": {
      "text/plain": [
       "(9360, 13)"
      ]
     },
     "execution_count": 6,
     "metadata": {},
     "output_type": "execute_result"
    }
   ],
   "source": [
    "all_data=all_data.dropna(how='any',axis=0)\n",
    "clean_data = pd.DataFrame(data=all_data)\n",
    "clean_data.shape"
   ]
  },
  {
   "cell_type": "markdown",
   "metadata": {},
   "source": [
    "#### Checking any null vales are still left."
   ]
  },
  {
   "cell_type": "code",
   "execution_count": 7,
   "metadata": {},
   "outputs": [
    {
     "data": {
      "text/plain": [
       "App               0\n",
       "Category          0\n",
       "Rating            0\n",
       "Reviews           0\n",
       "Size              0\n",
       "Installs          0\n",
       "Type              0\n",
       "Price             0\n",
       "Content Rating    0\n",
       "Genres            0\n",
       "Last Updated      0\n",
       "Current Ver       0\n",
       "Android Ver       0\n",
       "dtype: int64"
      ]
     },
     "execution_count": 7,
     "metadata": {},
     "output_type": "execute_result"
    }
   ],
   "source": [
    "clean_data.isnull().sum()"
   ]
  },
  {
   "cell_type": "markdown",
   "metadata": {},
   "source": [
    "#### Finding the unique values in the 'Size' column."
   ]
  },
  {
   "cell_type": "code",
   "execution_count": 8,
   "metadata": {},
   "outputs": [
    {
     "data": {
      "text/plain": [
       "array(['19M', '14M', '8.7M', '25M', '2.8M', '5.6M', '29M', '33M', '3.1M',\n",
       "       '28M', '12M', '20M', '21M', '37M', '5.5M', '17M', '39M', '31M',\n",
       "       '4.2M', '23M', '6.0M', '6.1M', '4.6M', '9.2M', '5.2M', '11M',\n",
       "       '24M', 'Varies with device', '9.4M', '15M', '10M', '1.2M', '26M',\n",
       "       '8.0M', '7.9M', '56M', '57M', '35M', '54M', '201k', '3.6M', '5.7M',\n",
       "       '8.6M', '2.4M', '27M', '2.7M', '2.5M', '7.0M', '16M', '3.4M',\n",
       "       '8.9M', '3.9M', '2.9M', '38M', '32M', '5.4M', '18M', '1.1M',\n",
       "       '2.2M', '4.5M', '9.8M', '52M', '9.0M', '6.7M', '30M', '2.6M',\n",
       "       '7.1M', '22M', '6.4M', '3.2M', '8.2M', '4.9M', '9.5M', '5.0M',\n",
       "       '5.9M', '13M', '73M', '6.8M', '3.5M', '4.0M', '2.3M', '2.1M',\n",
       "       '42M', '9.1M', '55M', '23k', '7.3M', '6.5M', '1.5M', '7.5M', '51M',\n",
       "       '41M', '48M', '8.5M', '46M', '8.3M', '4.3M', '4.7M', '3.3M', '40M',\n",
       "       '7.8M', '8.8M', '6.6M', '5.1M', '61M', '66M', '79k', '8.4M',\n",
       "       '3.7M', '118k', '44M', '695k', '1.6M', '6.2M', '53M', '1.4M',\n",
       "       '3.0M', '7.2M', '5.8M', '3.8M', '9.6M', '45M', '63M', '49M', '77M',\n",
       "       '4.4M', '70M', '9.3M', '8.1M', '36M', '6.9M', '7.4M', '84M', '97M',\n",
       "       '2.0M', '1.9M', '1.8M', '5.3M', '47M', '556k', '526k', '76M',\n",
       "       '7.6M', '59M', '9.7M', '78M', '72M', '43M', '7.7M', '6.3M', '334k',\n",
       "       '93M', '65M', '79M', '100M', '58M', '50M', '68M', '64M', '34M',\n",
       "       '67M', '60M', '94M', '9.9M', '232k', '99M', '624k', '95M', '8.5k',\n",
       "       '41k', '292k', '80M', '1.7M', '10.0M', '74M', '62M', '69M', '75M',\n",
       "       '98M', '85M', '82M', '96M', '87M', '71M', '86M', '91M', '81M',\n",
       "       '92M', '83M', '88M', '704k', '862k', '899k', '378k', '4.8M',\n",
       "       '266k', '375k', '1.3M', '975k', '980k', '4.1M', '89M', '696k',\n",
       "       '544k', '525k', '920k', '779k', '853k', '720k', '713k', '772k',\n",
       "       '318k', '58k', '241k', '196k', '857k', '51k', '953k', '865k',\n",
       "       '251k', '930k', '540k', '313k', '746k', '203k', '26k', '314k',\n",
       "       '239k', '371k', '220k', '730k', '756k', '91k', '293k', '17k',\n",
       "       '74k', '14k', '317k', '78k', '924k', '818k', '81k', '939k', '169k',\n",
       "       '45k', '965k', '90M', '545k', '61k', '283k', '655k', '714k', '93k',\n",
       "       '872k', '121k', '322k', '976k', '206k', '954k', '444k', '717k',\n",
       "       '210k', '609k', '308k', '306k', '175k', '350k', '383k', '454k',\n",
       "       '1.0M', '70k', '812k', '442k', '842k', '417k', '412k', '459k',\n",
       "       '478k', '335k', '782k', '721k', '430k', '429k', '192k', '460k',\n",
       "       '728k', '496k', '816k', '414k', '506k', '887k', '613k', '778k',\n",
       "       '683k', '592k', '186k', '840k', '647k', '373k', '437k', '598k',\n",
       "       '716k', '585k', '982k', '219k', '55k', '323k', '691k', '511k',\n",
       "       '951k', '963k', '25k', '554k', '351k', '27k', '82k', '208k',\n",
       "       '551k', '29k', '103k', '116k', '153k', '209k', '499k', '173k',\n",
       "       '597k', '809k', '122k', '411k', '400k', '801k', '787k', '50k',\n",
       "       '643k', '986k', '516k', '837k', '780k', '20k', '498k', '600k',\n",
       "       '656k', '221k', '228k', '176k', '34k', '259k', '164k', '458k',\n",
       "       '629k', '28k', '288k', '775k', '785k', '636k', '916k', '994k',\n",
       "       '309k', '485k', '914k', '903k', '608k', '500k', '54k', '562k',\n",
       "       '847k', '948k', '811k', '270k', '48k', '523k', '784k', '280k',\n",
       "       '24k', '892k', '154k', '18k', '33k', '860k', '364k', '387k',\n",
       "       '626k', '161k', '879k', '39k', '170k', '141k', '160k', '144k',\n",
       "       '143k', '190k', '376k', '193k', '473k', '246k', '73k', '253k',\n",
       "       '957k', '420k', '72k', '404k', '470k', '226k', '240k', '89k',\n",
       "       '234k', '257k', '861k', '467k', '676k', '552k', '582k', '619k'],\n",
       "      dtype=object)"
      ]
     },
     "execution_count": 8,
     "metadata": {},
     "output_type": "execute_result"
    }
   ],
   "source": [
    "clean_data['Size'].unique()"
   ]
  },
  {
   "cell_type": "markdown",
   "metadata": {},
   "source": [
    "#### Checking the number of invalid data in the 'Size' column."
   ]
  },
  {
   "cell_type": "code",
   "execution_count": 9,
   "metadata": {},
   "outputs": [
    {
     "data": {
      "text/html": [
       "<div>\n",
       "<style scoped>\n",
       "    .dataframe tbody tr th:only-of-type {\n",
       "        vertical-align: middle;\n",
       "    }\n",
       "\n",
       "    .dataframe tbody tr th {\n",
       "        vertical-align: top;\n",
       "    }\n",
       "\n",
       "    .dataframe thead th {\n",
       "        text-align: right;\n",
       "    }\n",
       "</style>\n",
       "<table border=\"1\" class=\"dataframe\">\n",
       "  <thead>\n",
       "    <tr style=\"text-align: right;\">\n",
       "      <th></th>\n",
       "      <th>App</th>\n",
       "      <th>Category</th>\n",
       "      <th>Rating</th>\n",
       "      <th>Reviews</th>\n",
       "      <th>Size</th>\n",
       "      <th>Installs</th>\n",
       "      <th>Type</th>\n",
       "      <th>Price</th>\n",
       "      <th>Content Rating</th>\n",
       "      <th>Genres</th>\n",
       "      <th>Last Updated</th>\n",
       "      <th>Current Ver</th>\n",
       "      <th>Android Ver</th>\n",
       "    </tr>\n",
       "  </thead>\n",
       "  <tbody>\n",
       "    <tr>\n",
       "      <th>37</th>\n",
       "      <td>Floor Plan Creator</td>\n",
       "      <td>ART_AND_DESIGN</td>\n",
       "      <td>4.1</td>\n",
       "      <td>36639</td>\n",
       "      <td>Varies with device</td>\n",
       "      <td>5,000,000+</td>\n",
       "      <td>Free</td>\n",
       "      <td>0</td>\n",
       "      <td>Everyone</td>\n",
       "      <td>Art &amp; Design</td>\n",
       "      <td>July 14, 2018</td>\n",
       "      <td>Varies with device</td>\n",
       "      <td>2.3.3 and up</td>\n",
       "    </tr>\n",
       "    <tr>\n",
       "      <th>42</th>\n",
       "      <td>Textgram - write on photos</td>\n",
       "      <td>ART_AND_DESIGN</td>\n",
       "      <td>4.4</td>\n",
       "      <td>295221</td>\n",
       "      <td>Varies with device</td>\n",
       "      <td>10,000,000+</td>\n",
       "      <td>Free</td>\n",
       "      <td>0</td>\n",
       "      <td>Everyone</td>\n",
       "      <td>Art &amp; Design</td>\n",
       "      <td>July 30, 2018</td>\n",
       "      <td>Varies with device</td>\n",
       "      <td>Varies with device</td>\n",
       "    </tr>\n",
       "    <tr>\n",
       "      <th>52</th>\n",
       "      <td>Used Cars and Trucks for Sale</td>\n",
       "      <td>AUTO_AND_VEHICLES</td>\n",
       "      <td>4.6</td>\n",
       "      <td>17057</td>\n",
       "      <td>Varies with device</td>\n",
       "      <td>1,000,000+</td>\n",
       "      <td>Free</td>\n",
       "      <td>0</td>\n",
       "      <td>Everyone</td>\n",
       "      <td>Auto &amp; Vehicles</td>\n",
       "      <td>July 30, 2018</td>\n",
       "      <td>Varies with device</td>\n",
       "      <td>Varies with device</td>\n",
       "    </tr>\n",
       "    <tr>\n",
       "      <th>67</th>\n",
       "      <td>Ulysse Speedometer</td>\n",
       "      <td>AUTO_AND_VEHICLES</td>\n",
       "      <td>4.3</td>\n",
       "      <td>40211</td>\n",
       "      <td>Varies with device</td>\n",
       "      <td>5,000,000+</td>\n",
       "      <td>Free</td>\n",
       "      <td>0</td>\n",
       "      <td>Everyone</td>\n",
       "      <td>Auto &amp; Vehicles</td>\n",
       "      <td>July 30, 2018</td>\n",
       "      <td>Varies with device</td>\n",
       "      <td>Varies with device</td>\n",
       "    </tr>\n",
       "    <tr>\n",
       "      <th>68</th>\n",
       "      <td>REPUVE</td>\n",
       "      <td>AUTO_AND_VEHICLES</td>\n",
       "      <td>3.9</td>\n",
       "      <td>356</td>\n",
       "      <td>Varies with device</td>\n",
       "      <td>100,000+</td>\n",
       "      <td>Free</td>\n",
       "      <td>0</td>\n",
       "      <td>Everyone</td>\n",
       "      <td>Auto &amp; Vehicles</td>\n",
       "      <td>May 25, 2018</td>\n",
       "      <td>Varies with device</td>\n",
       "      <td>Varies with device</td>\n",
       "    </tr>\n",
       "    <tr>\n",
       "      <th>...</th>\n",
       "      <td>...</td>\n",
       "      <td>...</td>\n",
       "      <td>...</td>\n",
       "      <td>...</td>\n",
       "      <td>...</td>\n",
       "      <td>...</td>\n",
       "      <td>...</td>\n",
       "      <td>...</td>\n",
       "      <td>...</td>\n",
       "      <td>...</td>\n",
       "      <td>...</td>\n",
       "      <td>...</td>\n",
       "      <td>...</td>\n",
       "    </tr>\n",
       "    <tr>\n",
       "      <th>10713</th>\n",
       "      <td>My Earthquake Alerts - US &amp; Worldwide Earthquakes</td>\n",
       "      <td>WEATHER</td>\n",
       "      <td>4.4</td>\n",
       "      <td>3471</td>\n",
       "      <td>Varies with device</td>\n",
       "      <td>100,000+</td>\n",
       "      <td>Free</td>\n",
       "      <td>0</td>\n",
       "      <td>Everyone</td>\n",
       "      <td>Weather</td>\n",
       "      <td>July 24, 2018</td>\n",
       "      <td>Varies with device</td>\n",
       "      <td>Varies with device</td>\n",
       "    </tr>\n",
       "    <tr>\n",
       "      <th>10725</th>\n",
       "      <td>Posta App</td>\n",
       "      <td>MAPS_AND_NAVIGATION</td>\n",
       "      <td>3.6</td>\n",
       "      <td>8</td>\n",
       "      <td>Varies with device</td>\n",
       "      <td>1,000+</td>\n",
       "      <td>Free</td>\n",
       "      <td>0</td>\n",
       "      <td>Everyone</td>\n",
       "      <td>Maps &amp; Navigation</td>\n",
       "      <td>September 27, 2017</td>\n",
       "      <td>Varies with device</td>\n",
       "      <td>4.4 and up</td>\n",
       "    </tr>\n",
       "    <tr>\n",
       "      <th>10765</th>\n",
       "      <td>Chat For Strangers - Video Chat</td>\n",
       "      <td>SOCIAL</td>\n",
       "      <td>3.4</td>\n",
       "      <td>622</td>\n",
       "      <td>Varies with device</td>\n",
       "      <td>100,000+</td>\n",
       "      <td>Free</td>\n",
       "      <td>0</td>\n",
       "      <td>Mature 17+</td>\n",
       "      <td>Social</td>\n",
       "      <td>May 23, 2018</td>\n",
       "      <td>Varies with device</td>\n",
       "      <td>Varies with device</td>\n",
       "    </tr>\n",
       "    <tr>\n",
       "      <th>10826</th>\n",
       "      <td>Frim: get new friends on local chat rooms</td>\n",
       "      <td>SOCIAL</td>\n",
       "      <td>4.0</td>\n",
       "      <td>88486</td>\n",
       "      <td>Varies with device</td>\n",
       "      <td>5,000,000+</td>\n",
       "      <td>Free</td>\n",
       "      <td>0</td>\n",
       "      <td>Mature 17+</td>\n",
       "      <td>Social</td>\n",
       "      <td>March 23, 2018</td>\n",
       "      <td>Varies with device</td>\n",
       "      <td>Varies with device</td>\n",
       "    </tr>\n",
       "    <tr>\n",
       "      <th>10839</th>\n",
       "      <td>The SCP Foundation DB fr nn5n</td>\n",
       "      <td>BOOKS_AND_REFERENCE</td>\n",
       "      <td>4.5</td>\n",
       "      <td>114</td>\n",
       "      <td>Varies with device</td>\n",
       "      <td>1,000+</td>\n",
       "      <td>Free</td>\n",
       "      <td>0</td>\n",
       "      <td>Mature 17+</td>\n",
       "      <td>Books &amp; Reference</td>\n",
       "      <td>January 19, 2015</td>\n",
       "      <td>Varies with device</td>\n",
       "      <td>Varies with device</td>\n",
       "    </tr>\n",
       "  </tbody>\n",
       "</table>\n",
       "<p>1637 rows × 13 columns</p>\n",
       "</div>"
      ],
      "text/plain": [
       "                                                     App             Category  \\\n",
       "37                                    Floor Plan Creator       ART_AND_DESIGN   \n",
       "42                            Textgram - write on photos       ART_AND_DESIGN   \n",
       "52                         Used Cars and Trucks for Sale    AUTO_AND_VEHICLES   \n",
       "67                                    Ulysse Speedometer    AUTO_AND_VEHICLES   \n",
       "68                                                REPUVE    AUTO_AND_VEHICLES   \n",
       "...                                                  ...                  ...   \n",
       "10713  My Earthquake Alerts - US & Worldwide Earthquakes              WEATHER   \n",
       "10725                                          Posta App  MAPS_AND_NAVIGATION   \n",
       "10765                    Chat For Strangers - Video Chat               SOCIAL   \n",
       "10826          Frim: get new friends on local chat rooms               SOCIAL   \n",
       "10839                      The SCP Foundation DB fr nn5n  BOOKS_AND_REFERENCE   \n",
       "\n",
       "       Rating Reviews                Size     Installs  Type Price  \\\n",
       "37        4.1   36639  Varies with device   5,000,000+  Free     0   \n",
       "42        4.4  295221  Varies with device  10,000,000+  Free     0   \n",
       "52        4.6   17057  Varies with device   1,000,000+  Free     0   \n",
       "67        4.3   40211  Varies with device   5,000,000+  Free     0   \n",
       "68        3.9     356  Varies with device     100,000+  Free     0   \n",
       "...       ...     ...                 ...          ...   ...   ...   \n",
       "10713     4.4    3471  Varies with device     100,000+  Free     0   \n",
       "10725     3.6       8  Varies with device       1,000+  Free     0   \n",
       "10765     3.4     622  Varies with device     100,000+  Free     0   \n",
       "10826     4.0   88486  Varies with device   5,000,000+  Free     0   \n",
       "10839     4.5     114  Varies with device       1,000+  Free     0   \n",
       "\n",
       "      Content Rating             Genres        Last Updated  \\\n",
       "37          Everyone       Art & Design       July 14, 2018   \n",
       "42          Everyone       Art & Design       July 30, 2018   \n",
       "52          Everyone    Auto & Vehicles       July 30, 2018   \n",
       "67          Everyone    Auto & Vehicles       July 30, 2018   \n",
       "68          Everyone    Auto & Vehicles        May 25, 2018   \n",
       "...              ...                ...                 ...   \n",
       "10713       Everyone            Weather       July 24, 2018   \n",
       "10725       Everyone  Maps & Navigation  September 27, 2017   \n",
       "10765     Mature 17+             Social        May 23, 2018   \n",
       "10826     Mature 17+             Social      March 23, 2018   \n",
       "10839     Mature 17+  Books & Reference    January 19, 2015   \n",
       "\n",
       "              Current Ver         Android Ver  \n",
       "37     Varies with device        2.3.3 and up  \n",
       "42     Varies with device  Varies with device  \n",
       "52     Varies with device  Varies with device  \n",
       "67     Varies with device  Varies with device  \n",
       "68     Varies with device  Varies with device  \n",
       "...                   ...                 ...  \n",
       "10713  Varies with device  Varies with device  \n",
       "10725  Varies with device          4.4 and up  \n",
       "10765  Varies with device  Varies with device  \n",
       "10826  Varies with device  Varies with device  \n",
       "10839  Varies with device  Varies with device  \n",
       "\n",
       "[1637 rows x 13 columns]"
      ]
     },
     "execution_count": 9,
     "metadata": {},
     "output_type": "execute_result"
    }
   ],
   "source": [
    "clean_data[clean_data['Size']=='Varies with device']"
   ]
  },
  {
   "cell_type": "markdown",
   "metadata": {},
   "source": [
    "#### Deleting the invalid data from 'Size' column. Invalid Data means the rows with value 'Varies with Device' in the 'Size' column."
   ]
  },
  {
   "cell_type": "code",
   "execution_count": 10,
   "metadata": {},
   "outputs": [
    {
     "data": {
      "text/plain": [
       "(7723, 13)"
      ]
     },
     "execution_count": 10,
     "metadata": {},
     "output_type": "execute_result"
    }
   ],
   "source": [
    "rows=clean_data[clean_data['Size']=='Varies with device'].index\n",
    "clean_data.drop(rows,inplace=True)\n",
    "clean_data.shape"
   ]
  },
  {
   "cell_type": "markdown",
   "metadata": {},
   "source": [
    "#### Converting all the values in 'Size' column to KB and removing the character M or K from the end of it. Also conveting the values in the 'Size' column to float."
   ]
  },
  {
   "cell_type": "code",
   "execution_count": 11,
   "metadata": {},
   "outputs": [],
   "source": [
    "clean_data['Size']= clean_data['Size'].apply(lambda x: float(x[:-1])*1000 if x[-1]=='M' else float(x[:-1]))\n",
    "clean_data['Size'] = clean_data['Size'].astype(float)"
   ]
  },
  {
   "cell_type": "markdown",
   "metadata": {},
   "source": [
    "#### Checking the data after the conversion."
   ]
  },
  {
   "cell_type": "code",
   "execution_count": 12,
   "metadata": {},
   "outputs": [
    {
     "data": {
      "text/html": [
       "<div>\n",
       "<style scoped>\n",
       "    .dataframe tbody tr th:only-of-type {\n",
       "        vertical-align: middle;\n",
       "    }\n",
       "\n",
       "    .dataframe tbody tr th {\n",
       "        vertical-align: top;\n",
       "    }\n",
       "\n",
       "    .dataframe thead th {\n",
       "        text-align: right;\n",
       "    }\n",
       "</style>\n",
       "<table border=\"1\" class=\"dataframe\">\n",
       "  <thead>\n",
       "    <tr style=\"text-align: right;\">\n",
       "      <th></th>\n",
       "      <th>App</th>\n",
       "      <th>Category</th>\n",
       "      <th>Rating</th>\n",
       "      <th>Reviews</th>\n",
       "      <th>Size</th>\n",
       "      <th>Installs</th>\n",
       "      <th>Type</th>\n",
       "      <th>Price</th>\n",
       "      <th>Content Rating</th>\n",
       "      <th>Genres</th>\n",
       "      <th>Last Updated</th>\n",
       "      <th>Current Ver</th>\n",
       "      <th>Android Ver</th>\n",
       "    </tr>\n",
       "  </thead>\n",
       "  <tbody>\n",
       "    <tr>\n",
       "      <th>0</th>\n",
       "      <td>Photo Editor &amp; Candy Camera &amp; Grid &amp; ScrapBook</td>\n",
       "      <td>ART_AND_DESIGN</td>\n",
       "      <td>4.1</td>\n",
       "      <td>159</td>\n",
       "      <td>19000.0</td>\n",
       "      <td>10,000+</td>\n",
       "      <td>Free</td>\n",
       "      <td>0</td>\n",
       "      <td>Everyone</td>\n",
       "      <td>Art &amp; Design</td>\n",
       "      <td>January 7, 2018</td>\n",
       "      <td>1.0.0</td>\n",
       "      <td>4.0.3 and up</td>\n",
       "    </tr>\n",
       "    <tr>\n",
       "      <th>1</th>\n",
       "      <td>Coloring book moana</td>\n",
       "      <td>ART_AND_DESIGN</td>\n",
       "      <td>3.9</td>\n",
       "      <td>967</td>\n",
       "      <td>14000.0</td>\n",
       "      <td>500,000+</td>\n",
       "      <td>Free</td>\n",
       "      <td>0</td>\n",
       "      <td>Everyone</td>\n",
       "      <td>Art &amp; Design;Pretend Play</td>\n",
       "      <td>January 15, 2018</td>\n",
       "      <td>2.0.0</td>\n",
       "      <td>4.0.3 and up</td>\n",
       "    </tr>\n",
       "    <tr>\n",
       "      <th>2</th>\n",
       "      <td>U Launcher Lite – FREE Live Cool Themes, Hide ...</td>\n",
       "      <td>ART_AND_DESIGN</td>\n",
       "      <td>4.7</td>\n",
       "      <td>87510</td>\n",
       "      <td>8700.0</td>\n",
       "      <td>5,000,000+</td>\n",
       "      <td>Free</td>\n",
       "      <td>0</td>\n",
       "      <td>Everyone</td>\n",
       "      <td>Art &amp; Design</td>\n",
       "      <td>August 1, 2018</td>\n",
       "      <td>1.2.4</td>\n",
       "      <td>4.0.3 and up</td>\n",
       "    </tr>\n",
       "    <tr>\n",
       "      <th>3</th>\n",
       "      <td>Sketch - Draw &amp; Paint</td>\n",
       "      <td>ART_AND_DESIGN</td>\n",
       "      <td>4.5</td>\n",
       "      <td>215644</td>\n",
       "      <td>25000.0</td>\n",
       "      <td>50,000,000+</td>\n",
       "      <td>Free</td>\n",
       "      <td>0</td>\n",
       "      <td>Teen</td>\n",
       "      <td>Art &amp; Design</td>\n",
       "      <td>June 8, 2018</td>\n",
       "      <td>Varies with device</td>\n",
       "      <td>4.2 and up</td>\n",
       "    </tr>\n",
       "    <tr>\n",
       "      <th>4</th>\n",
       "      <td>Pixel Draw - Number Art Coloring Book</td>\n",
       "      <td>ART_AND_DESIGN</td>\n",
       "      <td>4.3</td>\n",
       "      <td>967</td>\n",
       "      <td>2800.0</td>\n",
       "      <td>100,000+</td>\n",
       "      <td>Free</td>\n",
       "      <td>0</td>\n",
       "      <td>Everyone</td>\n",
       "      <td>Art &amp; Design;Creativity</td>\n",
       "      <td>June 20, 2018</td>\n",
       "      <td>1.1</td>\n",
       "      <td>4.4 and up</td>\n",
       "    </tr>\n",
       "  </tbody>\n",
       "</table>\n",
       "</div>"
      ],
      "text/plain": [
       "                                                 App        Category  Rating  \\\n",
       "0     Photo Editor & Candy Camera & Grid & ScrapBook  ART_AND_DESIGN     4.1   \n",
       "1                                Coloring book moana  ART_AND_DESIGN     3.9   \n",
       "2  U Launcher Lite – FREE Live Cool Themes, Hide ...  ART_AND_DESIGN     4.7   \n",
       "3                              Sketch - Draw & Paint  ART_AND_DESIGN     4.5   \n",
       "4              Pixel Draw - Number Art Coloring Book  ART_AND_DESIGN     4.3   \n",
       "\n",
       "  Reviews     Size     Installs  Type Price Content Rating  \\\n",
       "0     159  19000.0      10,000+  Free     0       Everyone   \n",
       "1     967  14000.0     500,000+  Free     0       Everyone   \n",
       "2   87510   8700.0   5,000,000+  Free     0       Everyone   \n",
       "3  215644  25000.0  50,000,000+  Free     0           Teen   \n",
       "4     967   2800.0     100,000+  Free     0       Everyone   \n",
       "\n",
       "                      Genres      Last Updated         Current Ver  \\\n",
       "0               Art & Design   January 7, 2018               1.0.0   \n",
       "1  Art & Design;Pretend Play  January 15, 2018               2.0.0   \n",
       "2               Art & Design    August 1, 2018               1.2.4   \n",
       "3               Art & Design      June 8, 2018  Varies with device   \n",
       "4    Art & Design;Creativity     June 20, 2018                 1.1   \n",
       "\n",
       "    Android Ver  \n",
       "0  4.0.3 and up  \n",
       "1  4.0.3 and up  \n",
       "2  4.0.3 and up  \n",
       "3    4.2 and up  \n",
       "4    4.4 and up  "
      ]
     },
     "execution_count": 12,
     "metadata": {},
     "output_type": "execute_result"
    }
   ],
   "source": [
    "clean_data.head()"
   ]
  },
  {
   "cell_type": "markdown",
   "metadata": {},
   "source": [
    "#### Renaming the column 'Size' to 'Size_in_KB'."
   ]
  },
  {
   "cell_type": "code",
   "execution_count": 13,
   "metadata": {},
   "outputs": [],
   "source": [
    "clean_data.rename(columns = {'Size':'Size_in_KB'}, inplace = True) "
   ]
  },
  {
   "cell_type": "code",
   "execution_count": 14,
   "metadata": {},
   "outputs": [
    {
     "name": "stdout",
     "output_type": "stream",
     "text": [
      "<class 'pandas.core.frame.DataFrame'>\n",
      "Int64Index: 7723 entries, 0 to 10840\n",
      "Data columns (total 13 columns):\n",
      " #   Column          Non-Null Count  Dtype  \n",
      "---  ------          --------------  -----  \n",
      " 0   App             7723 non-null   object \n",
      " 1   Category        7723 non-null   object \n",
      " 2   Rating          7723 non-null   float64\n",
      " 3   Reviews         7723 non-null   object \n",
      " 4   Size_in_KB      7723 non-null   float64\n",
      " 5   Installs        7723 non-null   object \n",
      " 6   Type            7723 non-null   object \n",
      " 7   Price           7723 non-null   object \n",
      " 8   Content Rating  7723 non-null   object \n",
      " 9   Genres          7723 non-null   object \n",
      " 10  Last Updated    7723 non-null   object \n",
      " 11  Current Ver     7723 non-null   object \n",
      " 12  Android Ver     7723 non-null   object \n",
      "dtypes: float64(2), object(11)\n",
      "memory usage: 844.7+ KB\n"
     ]
    }
   ],
   "source": [
    "clean_data.info()"
   ]
  },
  {
   "cell_type": "markdown",
   "metadata": {},
   "source": [
    "#### 'Reviews' is a numeric field but in the dataframe it is defined as String. Changing the data type of the 'Reviews' column to integer."
   ]
  },
  {
   "cell_type": "code",
   "execution_count": 15,
   "metadata": {},
   "outputs": [],
   "source": [
    "clean_data['Reviews'] = pd.to_numeric(clean_data['Reviews'])"
   ]
  },
  {
   "cell_type": "code",
   "execution_count": 16,
   "metadata": {},
   "outputs": [
    {
     "data": {
      "text/plain": [
       "App                object\n",
       "Category           object\n",
       "Rating            float64\n",
       "Reviews             int64\n",
       "Size_in_KB        float64\n",
       "Installs           object\n",
       "Type               object\n",
       "Price              object\n",
       "Content Rating     object\n",
       "Genres             object\n",
       "Last Updated       object\n",
       "Current Ver        object\n",
       "Android Ver        object\n",
       "dtype: object"
      ]
     },
     "execution_count": 16,
     "metadata": {},
     "output_type": "execute_result"
    }
   ],
   "source": [
    "clean_data.dtypes"
   ]
  },
  {
   "cell_type": "markdown",
   "metadata": {},
   "source": [
    "#### Replacing the '+' and ',' with '' in the 'Installs' column."
   ]
  },
  {
   "cell_type": "code",
   "execution_count": 17,
   "metadata": {},
   "outputs": [
    {
     "data": {
      "text/html": [
       "<div>\n",
       "<style scoped>\n",
       "    .dataframe tbody tr th:only-of-type {\n",
       "        vertical-align: middle;\n",
       "    }\n",
       "\n",
       "    .dataframe tbody tr th {\n",
       "        vertical-align: top;\n",
       "    }\n",
       "\n",
       "    .dataframe thead th {\n",
       "        text-align: right;\n",
       "    }\n",
       "</style>\n",
       "<table border=\"1\" class=\"dataframe\">\n",
       "  <thead>\n",
       "    <tr style=\"text-align: right;\">\n",
       "      <th></th>\n",
       "      <th>App</th>\n",
       "      <th>Category</th>\n",
       "      <th>Rating</th>\n",
       "      <th>Reviews</th>\n",
       "      <th>Size_in_KB</th>\n",
       "      <th>Installs</th>\n",
       "      <th>Type</th>\n",
       "      <th>Price</th>\n",
       "      <th>Content Rating</th>\n",
       "      <th>Genres</th>\n",
       "      <th>Last Updated</th>\n",
       "      <th>Current Ver</th>\n",
       "      <th>Android Ver</th>\n",
       "    </tr>\n",
       "  </thead>\n",
       "  <tbody>\n",
       "    <tr>\n",
       "      <th>0</th>\n",
       "      <td>Photo Editor &amp; Candy Camera &amp; Grid &amp; ScrapBook</td>\n",
       "      <td>ART_AND_DESIGN</td>\n",
       "      <td>4.1</td>\n",
       "      <td>159</td>\n",
       "      <td>19000.0</td>\n",
       "      <td>10000</td>\n",
       "      <td>Free</td>\n",
       "      <td>0</td>\n",
       "      <td>Everyone</td>\n",
       "      <td>Art &amp; Design</td>\n",
       "      <td>January 7, 2018</td>\n",
       "      <td>1.0.0</td>\n",
       "      <td>4.0.3 and up</td>\n",
       "    </tr>\n",
       "    <tr>\n",
       "      <th>1</th>\n",
       "      <td>Coloring book moana</td>\n",
       "      <td>ART_AND_DESIGN</td>\n",
       "      <td>3.9</td>\n",
       "      <td>967</td>\n",
       "      <td>14000.0</td>\n",
       "      <td>500000</td>\n",
       "      <td>Free</td>\n",
       "      <td>0</td>\n",
       "      <td>Everyone</td>\n",
       "      <td>Art &amp; Design;Pretend Play</td>\n",
       "      <td>January 15, 2018</td>\n",
       "      <td>2.0.0</td>\n",
       "      <td>4.0.3 and up</td>\n",
       "    </tr>\n",
       "    <tr>\n",
       "      <th>2</th>\n",
       "      <td>U Launcher Lite – FREE Live Cool Themes, Hide ...</td>\n",
       "      <td>ART_AND_DESIGN</td>\n",
       "      <td>4.7</td>\n",
       "      <td>87510</td>\n",
       "      <td>8700.0</td>\n",
       "      <td>5000000</td>\n",
       "      <td>Free</td>\n",
       "      <td>0</td>\n",
       "      <td>Everyone</td>\n",
       "      <td>Art &amp; Design</td>\n",
       "      <td>August 1, 2018</td>\n",
       "      <td>1.2.4</td>\n",
       "      <td>4.0.3 and up</td>\n",
       "    </tr>\n",
       "    <tr>\n",
       "      <th>3</th>\n",
       "      <td>Sketch - Draw &amp; Paint</td>\n",
       "      <td>ART_AND_DESIGN</td>\n",
       "      <td>4.5</td>\n",
       "      <td>215644</td>\n",
       "      <td>25000.0</td>\n",
       "      <td>50000000</td>\n",
       "      <td>Free</td>\n",
       "      <td>0</td>\n",
       "      <td>Teen</td>\n",
       "      <td>Art &amp; Design</td>\n",
       "      <td>June 8, 2018</td>\n",
       "      <td>Varies with device</td>\n",
       "      <td>4.2 and up</td>\n",
       "    </tr>\n",
       "    <tr>\n",
       "      <th>4</th>\n",
       "      <td>Pixel Draw - Number Art Coloring Book</td>\n",
       "      <td>ART_AND_DESIGN</td>\n",
       "      <td>4.3</td>\n",
       "      <td>967</td>\n",
       "      <td>2800.0</td>\n",
       "      <td>100000</td>\n",
       "      <td>Free</td>\n",
       "      <td>0</td>\n",
       "      <td>Everyone</td>\n",
       "      <td>Art &amp; Design;Creativity</td>\n",
       "      <td>June 20, 2018</td>\n",
       "      <td>1.1</td>\n",
       "      <td>4.4 and up</td>\n",
       "    </tr>\n",
       "  </tbody>\n",
       "</table>\n",
       "</div>"
      ],
      "text/plain": [
       "                                                 App        Category  Rating  \\\n",
       "0     Photo Editor & Candy Camera & Grid & ScrapBook  ART_AND_DESIGN     4.1   \n",
       "1                                Coloring book moana  ART_AND_DESIGN     3.9   \n",
       "2  U Launcher Lite – FREE Live Cool Themes, Hide ...  ART_AND_DESIGN     4.7   \n",
       "3                              Sketch - Draw & Paint  ART_AND_DESIGN     4.5   \n",
       "4              Pixel Draw - Number Art Coloring Book  ART_AND_DESIGN     4.3   \n",
       "\n",
       "   Reviews  Size_in_KB  Installs  Type Price Content Rating  \\\n",
       "0      159     19000.0     10000  Free     0       Everyone   \n",
       "1      967     14000.0    500000  Free     0       Everyone   \n",
       "2    87510      8700.0   5000000  Free     0       Everyone   \n",
       "3   215644     25000.0  50000000  Free     0           Teen   \n",
       "4      967      2800.0    100000  Free     0       Everyone   \n",
       "\n",
       "                      Genres      Last Updated         Current Ver  \\\n",
       "0               Art & Design   January 7, 2018               1.0.0   \n",
       "1  Art & Design;Pretend Play  January 15, 2018               2.0.0   \n",
       "2               Art & Design    August 1, 2018               1.2.4   \n",
       "3               Art & Design      June 8, 2018  Varies with device   \n",
       "4    Art & Design;Creativity     June 20, 2018                 1.1   \n",
       "\n",
       "    Android Ver  \n",
       "0  4.0.3 and up  \n",
       "1  4.0.3 and up  \n",
       "2  4.0.3 and up  \n",
       "3    4.2 and up  \n",
       "4    4.4 and up  "
      ]
     },
     "execution_count": 17,
     "metadata": {},
     "output_type": "execute_result"
    }
   ],
   "source": [
    "clean_data['Installs'] = (clean_data['Installs'].str.replace('+', '')).str.replace(',','')\n",
    "clean_data.head()"
   ]
  },
  {
   "cell_type": "markdown",
   "metadata": {},
   "source": [
    "#### 'Installs' is a numeric field. Changing the data type of 'Installs' column to integer. "
   ]
  },
  {
   "cell_type": "code",
   "execution_count": 18,
   "metadata": {},
   "outputs": [
    {
     "data": {
      "text/plain": [
       "App                object\n",
       "Category           object\n",
       "Rating            float64\n",
       "Reviews             int64\n",
       "Size_in_KB        float64\n",
       "Installs            int64\n",
       "Type               object\n",
       "Price              object\n",
       "Content Rating     object\n",
       "Genres             object\n",
       "Last Updated       object\n",
       "Current Ver        object\n",
       "Android Ver        object\n",
       "dtype: object"
      ]
     },
     "execution_count": 18,
     "metadata": {},
     "output_type": "execute_result"
    }
   ],
   "source": [
    "clean_data['Installs'] = pd.to_numeric(clean_data['Installs'])\n",
    "clean_data.dtypes"
   ]
  },
  {
   "cell_type": "markdown",
   "metadata": {},
   "source": [
    "#### Removing the '$' sign from the values in the 'Price' column. "
   ]
  },
  {
   "cell_type": "code",
   "execution_count": 19,
   "metadata": {},
   "outputs": [
    {
     "data": {
      "text/html": [
       "<div>\n",
       "<style scoped>\n",
       "    .dataframe tbody tr th:only-of-type {\n",
       "        vertical-align: middle;\n",
       "    }\n",
       "\n",
       "    .dataframe tbody tr th {\n",
       "        vertical-align: top;\n",
       "    }\n",
       "\n",
       "    .dataframe thead th {\n",
       "        text-align: right;\n",
       "    }\n",
       "</style>\n",
       "<table border=\"1\" class=\"dataframe\">\n",
       "  <thead>\n",
       "    <tr style=\"text-align: right;\">\n",
       "      <th></th>\n",
       "      <th>App</th>\n",
       "      <th>Category</th>\n",
       "      <th>Rating</th>\n",
       "      <th>Reviews</th>\n",
       "      <th>Size_in_KB</th>\n",
       "      <th>Installs</th>\n",
       "      <th>Type</th>\n",
       "      <th>Price</th>\n",
       "      <th>Content Rating</th>\n",
       "      <th>Genres</th>\n",
       "      <th>Last Updated</th>\n",
       "      <th>Current Ver</th>\n",
       "      <th>Android Ver</th>\n",
       "    </tr>\n",
       "  </thead>\n",
       "  <tbody>\n",
       "    <tr>\n",
       "      <th>0</th>\n",
       "      <td>Photo Editor &amp; Candy Camera &amp; Grid &amp; ScrapBook</td>\n",
       "      <td>ART_AND_DESIGN</td>\n",
       "      <td>4.1</td>\n",
       "      <td>159</td>\n",
       "      <td>19000.0</td>\n",
       "      <td>10000</td>\n",
       "      <td>Free</td>\n",
       "      <td>0.0</td>\n",
       "      <td>Everyone</td>\n",
       "      <td>Art &amp; Design</td>\n",
       "      <td>January 7, 2018</td>\n",
       "      <td>1.0.0</td>\n",
       "      <td>4.0.3 and up</td>\n",
       "    </tr>\n",
       "    <tr>\n",
       "      <th>1</th>\n",
       "      <td>Coloring book moana</td>\n",
       "      <td>ART_AND_DESIGN</td>\n",
       "      <td>3.9</td>\n",
       "      <td>967</td>\n",
       "      <td>14000.0</td>\n",
       "      <td>500000</td>\n",
       "      <td>Free</td>\n",
       "      <td>0.0</td>\n",
       "      <td>Everyone</td>\n",
       "      <td>Art &amp; Design;Pretend Play</td>\n",
       "      <td>January 15, 2018</td>\n",
       "      <td>2.0.0</td>\n",
       "      <td>4.0.3 and up</td>\n",
       "    </tr>\n",
       "    <tr>\n",
       "      <th>2</th>\n",
       "      <td>U Launcher Lite – FREE Live Cool Themes, Hide ...</td>\n",
       "      <td>ART_AND_DESIGN</td>\n",
       "      <td>4.7</td>\n",
       "      <td>87510</td>\n",
       "      <td>8700.0</td>\n",
       "      <td>5000000</td>\n",
       "      <td>Free</td>\n",
       "      <td>0.0</td>\n",
       "      <td>Everyone</td>\n",
       "      <td>Art &amp; Design</td>\n",
       "      <td>August 1, 2018</td>\n",
       "      <td>1.2.4</td>\n",
       "      <td>4.0.3 and up</td>\n",
       "    </tr>\n",
       "    <tr>\n",
       "      <th>3</th>\n",
       "      <td>Sketch - Draw &amp; Paint</td>\n",
       "      <td>ART_AND_DESIGN</td>\n",
       "      <td>4.5</td>\n",
       "      <td>215644</td>\n",
       "      <td>25000.0</td>\n",
       "      <td>50000000</td>\n",
       "      <td>Free</td>\n",
       "      <td>0.0</td>\n",
       "      <td>Teen</td>\n",
       "      <td>Art &amp; Design</td>\n",
       "      <td>June 8, 2018</td>\n",
       "      <td>Varies with device</td>\n",
       "      <td>4.2 and up</td>\n",
       "    </tr>\n",
       "    <tr>\n",
       "      <th>4</th>\n",
       "      <td>Pixel Draw - Number Art Coloring Book</td>\n",
       "      <td>ART_AND_DESIGN</td>\n",
       "      <td>4.3</td>\n",
       "      <td>967</td>\n",
       "      <td>2800.0</td>\n",
       "      <td>100000</td>\n",
       "      <td>Free</td>\n",
       "      <td>0.0</td>\n",
       "      <td>Everyone</td>\n",
       "      <td>Art &amp; Design;Creativity</td>\n",
       "      <td>June 20, 2018</td>\n",
       "      <td>1.1</td>\n",
       "      <td>4.4 and up</td>\n",
       "    </tr>\n",
       "  </tbody>\n",
       "</table>\n",
       "</div>"
      ],
      "text/plain": [
       "                                                 App        Category  Rating  \\\n",
       "0     Photo Editor & Candy Camera & Grid & ScrapBook  ART_AND_DESIGN     4.1   \n",
       "1                                Coloring book moana  ART_AND_DESIGN     3.9   \n",
       "2  U Launcher Lite – FREE Live Cool Themes, Hide ...  ART_AND_DESIGN     4.7   \n",
       "3                              Sketch - Draw & Paint  ART_AND_DESIGN     4.5   \n",
       "4              Pixel Draw - Number Art Coloring Book  ART_AND_DESIGN     4.3   \n",
       "\n",
       "   Reviews  Size_in_KB  Installs  Type  Price Content Rating  \\\n",
       "0      159     19000.0     10000  Free    0.0       Everyone   \n",
       "1      967     14000.0    500000  Free    0.0       Everyone   \n",
       "2    87510      8700.0   5000000  Free    0.0       Everyone   \n",
       "3   215644     25000.0  50000000  Free    0.0           Teen   \n",
       "4      967      2800.0    100000  Free    0.0       Everyone   \n",
       "\n",
       "                      Genres      Last Updated         Current Ver  \\\n",
       "0               Art & Design   January 7, 2018               1.0.0   \n",
       "1  Art & Design;Pretend Play  January 15, 2018               2.0.0   \n",
       "2               Art & Design    August 1, 2018               1.2.4   \n",
       "3               Art & Design      June 8, 2018  Varies with device   \n",
       "4    Art & Design;Creativity     June 20, 2018                 1.1   \n",
       "\n",
       "    Android Ver  \n",
       "0  4.0.3 and up  \n",
       "1  4.0.3 and up  \n",
       "2  4.0.3 and up  \n",
       "3    4.2 and up  \n",
       "4    4.4 and up  "
      ]
     },
     "execution_count": 19,
     "metadata": {},
     "output_type": "execute_result"
    }
   ],
   "source": [
    "clean_data[\"Price\"]=clean_data[\"Price\"].apply(lambda x:x.replace(\"$\",\"\"))\n",
    "clean_data[\"Price\"]=clean_data[\"Price\"].astype(float)\n",
    "clean_data.head()"
   ]
  },
  {
   "cell_type": "markdown",
   "metadata": {},
   "source": [
    "#### 'Price' is a numeric field. Changing the data type of the 'Price' column to float."
   ]
  },
  {
   "cell_type": "code",
   "execution_count": 20,
   "metadata": {},
   "outputs": [
    {
     "data": {
      "text/plain": [
       "App                object\n",
       "Category           object\n",
       "Rating            float64\n",
       "Reviews             int64\n",
       "Size_in_KB        float64\n",
       "Installs            int64\n",
       "Type               object\n",
       "Price             float64\n",
       "Content Rating     object\n",
       "Genres             object\n",
       "Last Updated       object\n",
       "Current Ver        object\n",
       "Android Ver        object\n",
       "dtype: object"
      ]
     },
     "execution_count": 20,
     "metadata": {},
     "output_type": "execute_result"
    }
   ],
   "source": [
    "clean_data.dtypes"
   ]
  },
  {
   "cell_type": "markdown",
   "metadata": {},
   "source": [
    "#### Average rating should be between 1 and 5 as only these values are allowed on the play store. Dropping the rows more than 5 rating. "
   ]
  },
  {
   "cell_type": "code",
   "execution_count": 21,
   "metadata": {},
   "outputs": [
    {
     "data": {
      "text/plain": [
       "(7723, 13)"
      ]
     },
     "execution_count": 21,
     "metadata": {},
     "output_type": "execute_result"
    }
   ],
   "source": [
    "clean_data=clean_data.loc[clean_data['Rating'] <= 5.0 ]\n",
    "clean_data.shape"
   ]
  },
  {
   "cell_type": "markdown",
   "metadata": {},
   "source": [
    "#### There are no records with more than 5 rating hence no need to drop any rows."
   ]
  },
  {
   "cell_type": "markdown",
   "metadata": {},
   "source": [
    "#### For an App the number of 'Reviews' should not be more than 'Installs' as only those who installed can review the app. Finding the records where 'Reviews' is greater than 'Installs'."
   ]
  },
  {
   "cell_type": "code",
   "execution_count": 22,
   "metadata": {},
   "outputs": [
    {
     "data": {
      "text/plain": [
       "6"
      ]
     },
     "execution_count": 22,
     "metadata": {},
     "output_type": "execute_result"
    }
   ],
   "source": [
    "len(clean_data.loc[clean_data['Reviews']>clean_data['Installs']])"
   ]
  },
  {
   "cell_type": "markdown",
   "metadata": {},
   "source": [
    "#### Dropping the records where the number of 'Reviews' is greater than 'Installs'."
   ]
  },
  {
   "cell_type": "code",
   "execution_count": 23,
   "metadata": {},
   "outputs": [
    {
     "data": {
      "text/plain": [
       "(7717, 13)"
      ]
     },
     "execution_count": 23,
     "metadata": {},
     "output_type": "execute_result"
    }
   ],
   "source": [
    "clean_data=clean_data.loc[clean_data['Installs']>=clean_data['Reviews']]\n",
    "clean_data.shape"
   ]
  },
  {
   "cell_type": "markdown",
   "metadata": {},
   "source": [
    "#### For free apps (type = “Free”), the price should not be >0. Dropping the rows with such data."
   ]
  },
  {
   "cell_type": "code",
   "execution_count": 24,
   "metadata": {},
   "outputs": [
    {
     "data": {
      "text/plain": [
       "(7717, 13)"
      ]
     },
     "execution_count": 24,
     "metadata": {},
     "output_type": "execute_result"
    }
   ],
   "source": [
    "clean_data = clean_data[((clean_data.Type == \"Free\") & (clean_data['Price'] == 0))|((clean_data.Type != \"Free\") & (clean_data['Price'] != 0))]\n",
    "clean_data.shape"
   ]
  },
  {
   "cell_type": "markdown",
   "metadata": {},
   "source": [
    "#### Univariate Analysis"
   ]
  },
  {
   "cell_type": "markdown",
   "metadata": {},
   "source": [
    "#### Box Plot for 'Price'"
   ]
  },
  {
   "cell_type": "code",
   "execution_count": 25,
   "metadata": {},
   "outputs": [
    {
     "data": {
      "image/png": "[encoded data removed]",
      "text/plain": [
       "<Figure size 576x360 with 1 Axes>"
      ]
     },
     "metadata": {
      "needs_background": "light"
     },
     "output_type": "display_data"
    }
   ],
   "source": [
    "plt.figure(figsize=(8,5))\n",
    "sns.boxplot(x=clean_data['Price'])\n",
    "plt.show()"
   ]
  },
  {
   "cell_type": "markdown",
   "metadata": {},
   "source": [
    "#### From the above boxplot, the box of data is not very clear. So plotting for paid Apps only ( 'Type' not equal to 'Free')."
   ]
  },
  {
   "cell_type": "code",
   "execution_count": 26,
   "metadata": {},
   "outputs": [
    {
     "data": {
      "image/png": "[encoded data removed]",
      "text/plain": [
       "<Figure size 576x360 with 1 Axes>"
      ]
     },
     "metadata": {
      "needs_background": "light"
     },
     "output_type": "display_data"
    }
   ],
   "source": [
    "plt.figure(figsize=(8,5))\n",
    "plt.boxplot(clean_data[clean_data.Type!='Free'].Price,vert=False)\n",
    "plt.show()"
   ]
  },
  {
   "cell_type": "markdown",
   "metadata": {},
   "source": [
    "#### Observation - From the BoxPlot we can see that the Prices above 200$ are definitely outliers."
   ]
  },
  {
   "cell_type": "markdown",
   "metadata": {},
   "source": [
    "#### Boxplot for 'Reviews'."
   ]
  },
  {
   "cell_type": "code",
   "execution_count": 27,
   "metadata": {},
   "outputs": [
    {
     "data": {
      "image/png": "[encoded data removed]",
      "text/plain": [
       "<Figure size 720x360 with 1 Axes>"
      ]
     },
     "metadata": {
      "needs_background": "light"
     },
     "output_type": "display_data"
    }
   ],
   "source": [
    "plt.figure(figsize=(10,5))\n",
    "sns.boxplot(x=clean_data[\"Reviews\"])\n",
    "plt.show()"
   ]
  },
  {
   "cell_type": "markdown",
   "metadata": {},
   "source": [
    "#### Observation - From the above plot we can see that there are apps with very high 'Reviews' (more than 2 millions).  The records with more than 2 million 'Reviews' are definitely outliers."
   ]
  },
  {
   "cell_type": "markdown",
   "metadata": {},
   "source": [
    "#### Histogram for 'Rating'."
   ]
  },
  {
   "cell_type": "code",
   "execution_count": 28,
   "metadata": {},
   "outputs": [
    {
     "data": {
      "image/png": "[encoded data removed]",
      "text/plain": [
       "<Figure size 432x288 with 1 Axes>"
      ]
     },
     "metadata": {
      "needs_background": "light"
     },
     "output_type": "display_data"
    }
   ],
   "source": [
    "clean_data['Rating'].plot.hist(bins=10,rwidth=0.9)\n",
    "plt.title('Ratings of Apps')\n",
    "plt.ylabel('No. Of Apps')\n",
    "plt.xlabel('Ratings')\n",
    "plt.show()"
   ]
  },
  {
   "cell_type": "markdown",
   "metadata": {},
   "source": [
    "#### Observation - Most of the Apps are having rating between 4.0 and 5.0. The ratings of the Apps are mostly on the higher side."
   ]
  },
  {
   "cell_type": "markdown",
   "metadata": {},
   "source": [
    "#### Histogram for 'Size'"
   ]
  },
  {
   "cell_type": "code",
   "execution_count": 29,
   "metadata": {},
   "outputs": [
    {
     "data": {
      "image/png": "[encoded data removed]",
      "text/plain": [
       "<Figure size 432x288 with 1 Axes>"
      ]
     },
     "metadata": {
      "needs_background": "light"
     },
     "output_type": "display_data"
    }
   ],
   "source": [
    "clean_data['Size_in_KB'].plot.hist(bins=10,rwidth=0.9)\n",
    "plt.title('Size of Apps')\n",
    "plt.ylabel('No. Of Apps')\n",
    "plt.xlabel('App Size in KB')\n",
    "plt.show()"
   ]
  },
  {
   "cell_type": "markdown",
   "metadata": {},
   "source": [
    "#### Observation - Most of the Apps are having less size. Most records are between 0 and 10,000 KB. There are also some Apps with very heavy size."
   ]
  },
  {
   "cell_type": "markdown",
   "metadata": {},
   "source": [
    "#### Outlier Treatment"
   ]
  },
  {
   "cell_type": "markdown",
   "metadata": {},
   "source": [
    "#### From the box plot, it seems like there are some apps with very high price. A price of $200 for an App on the Play Store is very high. Finding the number of records with very high Price(>200)."
   ]
  },
  {
   "cell_type": "code",
   "execution_count": 30,
   "metadata": {},
   "outputs": [
    {
     "data": {
      "text/html": [
       "<div>\n",
       "<style scoped>\n",
       "    .dataframe tbody tr th:only-of-type {\n",
       "        vertical-align: middle;\n",
       "    }\n",
       "\n",
       "    .dataframe tbody tr th {\n",
       "        vertical-align: top;\n",
       "    }\n",
       "\n",
       "    .dataframe thead th {\n",
       "        text-align: right;\n",
       "    }\n",
       "</style>\n",
       "<table border=\"1\" class=\"dataframe\">\n",
       "  <thead>\n",
       "    <tr style=\"text-align: right;\">\n",
       "      <th></th>\n",
       "      <th>App</th>\n",
       "      <th>Category</th>\n",
       "      <th>Rating</th>\n",
       "      <th>Reviews</th>\n",
       "      <th>Size_in_KB</th>\n",
       "      <th>Installs</th>\n",
       "      <th>Type</th>\n",
       "      <th>Price</th>\n",
       "      <th>Content Rating</th>\n",
       "      <th>Genres</th>\n",
       "      <th>Last Updated</th>\n",
       "      <th>Current Ver</th>\n",
       "      <th>Android Ver</th>\n",
       "    </tr>\n",
       "  </thead>\n",
       "  <tbody>\n",
       "    <tr>\n",
       "      <th>4197</th>\n",
       "      <td>most expensive app (H)</td>\n",
       "      <td>FAMILY</td>\n",
       "      <td>4.3</td>\n",
       "      <td>6</td>\n",
       "      <td>1500.0</td>\n",
       "      <td>100</td>\n",
       "      <td>Paid</td>\n",
       "      <td>399.99</td>\n",
       "      <td>Everyone</td>\n",
       "      <td>Entertainment</td>\n",
       "      <td>July 16, 2018</td>\n",
       "      <td>1.0</td>\n",
       "      <td>7.0 and up</td>\n",
       "    </tr>\n",
       "    <tr>\n",
       "      <th>4362</th>\n",
       "      <td>💎 I'm rich</td>\n",
       "      <td>LIFESTYLE</td>\n",
       "      <td>3.8</td>\n",
       "      <td>718</td>\n",
       "      <td>26000.0</td>\n",
       "      <td>10000</td>\n",
       "      <td>Paid</td>\n",
       "      <td>399.99</td>\n",
       "      <td>Everyone</td>\n",
       "      <td>Lifestyle</td>\n",
       "      <td>March 11, 2018</td>\n",
       "      <td>1.0.0</td>\n",
       "      <td>4.4 and up</td>\n",
       "    </tr>\n",
       "    <tr>\n",
       "      <th>4367</th>\n",
       "      <td>I'm Rich - Trump Edition</td>\n",
       "      <td>LIFESTYLE</td>\n",
       "      <td>3.6</td>\n",
       "      <td>275</td>\n",
       "      <td>7300.0</td>\n",
       "      <td>10000</td>\n",
       "      <td>Paid</td>\n",
       "      <td>400.00</td>\n",
       "      <td>Everyone</td>\n",
       "      <td>Lifestyle</td>\n",
       "      <td>May 3, 2018</td>\n",
       "      <td>1.0.1</td>\n",
       "      <td>4.1 and up</td>\n",
       "    </tr>\n",
       "    <tr>\n",
       "      <th>5351</th>\n",
       "      <td>I am rich</td>\n",
       "      <td>LIFESTYLE</td>\n",
       "      <td>3.8</td>\n",
       "      <td>3547</td>\n",
       "      <td>1800.0</td>\n",
       "      <td>100000</td>\n",
       "      <td>Paid</td>\n",
       "      <td>399.99</td>\n",
       "      <td>Everyone</td>\n",
       "      <td>Lifestyle</td>\n",
       "      <td>January 12, 2018</td>\n",
       "      <td>2.0</td>\n",
       "      <td>4.0.3 and up</td>\n",
       "    </tr>\n",
       "    <tr>\n",
       "      <th>5354</th>\n",
       "      <td>I am Rich Plus</td>\n",
       "      <td>FAMILY</td>\n",
       "      <td>4.0</td>\n",
       "      <td>856</td>\n",
       "      <td>8700.0</td>\n",
       "      <td>10000</td>\n",
       "      <td>Paid</td>\n",
       "      <td>399.99</td>\n",
       "      <td>Everyone</td>\n",
       "      <td>Entertainment</td>\n",
       "      <td>May 19, 2018</td>\n",
       "      <td>3.0</td>\n",
       "      <td>4.4 and up</td>\n",
       "    </tr>\n",
       "    <tr>\n",
       "      <th>5355</th>\n",
       "      <td>I am rich VIP</td>\n",
       "      <td>LIFESTYLE</td>\n",
       "      <td>3.8</td>\n",
       "      <td>411</td>\n",
       "      <td>2600.0</td>\n",
       "      <td>10000</td>\n",
       "      <td>Paid</td>\n",
       "      <td>299.99</td>\n",
       "      <td>Everyone</td>\n",
       "      <td>Lifestyle</td>\n",
       "      <td>July 21, 2018</td>\n",
       "      <td>1.1.1</td>\n",
       "      <td>4.3 and up</td>\n",
       "    </tr>\n",
       "    <tr>\n",
       "      <th>5356</th>\n",
       "      <td>I Am Rich Premium</td>\n",
       "      <td>FINANCE</td>\n",
       "      <td>4.1</td>\n",
       "      <td>1867</td>\n",
       "      <td>4700.0</td>\n",
       "      <td>50000</td>\n",
       "      <td>Paid</td>\n",
       "      <td>399.99</td>\n",
       "      <td>Everyone</td>\n",
       "      <td>Finance</td>\n",
       "      <td>November 12, 2017</td>\n",
       "      <td>1.6</td>\n",
       "      <td>4.0 and up</td>\n",
       "    </tr>\n",
       "    <tr>\n",
       "      <th>5357</th>\n",
       "      <td>I am extremely Rich</td>\n",
       "      <td>LIFESTYLE</td>\n",
       "      <td>2.9</td>\n",
       "      <td>41</td>\n",
       "      <td>2900.0</td>\n",
       "      <td>1000</td>\n",
       "      <td>Paid</td>\n",
       "      <td>379.99</td>\n",
       "      <td>Everyone</td>\n",
       "      <td>Lifestyle</td>\n",
       "      <td>July 1, 2018</td>\n",
       "      <td>1.0</td>\n",
       "      <td>4.0 and up</td>\n",
       "    </tr>\n",
       "    <tr>\n",
       "      <th>5358</th>\n",
       "      <td>I am Rich!</td>\n",
       "      <td>FINANCE</td>\n",
       "      <td>3.8</td>\n",
       "      <td>93</td>\n",
       "      <td>22000.0</td>\n",
       "      <td>1000</td>\n",
       "      <td>Paid</td>\n",
       "      <td>399.99</td>\n",
       "      <td>Everyone</td>\n",
       "      <td>Finance</td>\n",
       "      <td>December 11, 2017</td>\n",
       "      <td>1.0</td>\n",
       "      <td>4.1 and up</td>\n",
       "    </tr>\n",
       "    <tr>\n",
       "      <th>5359</th>\n",
       "      <td>I am rich(premium)</td>\n",
       "      <td>FINANCE</td>\n",
       "      <td>3.5</td>\n",
       "      <td>472</td>\n",
       "      <td>965.0</td>\n",
       "      <td>5000</td>\n",
       "      <td>Paid</td>\n",
       "      <td>399.99</td>\n",
       "      <td>Everyone</td>\n",
       "      <td>Finance</td>\n",
       "      <td>May 1, 2017</td>\n",
       "      <td>3.4</td>\n",
       "      <td>4.4 and up</td>\n",
       "    </tr>\n",
       "    <tr>\n",
       "      <th>5362</th>\n",
       "      <td>I Am Rich Pro</td>\n",
       "      <td>FAMILY</td>\n",
       "      <td>4.4</td>\n",
       "      <td>201</td>\n",
       "      <td>2700.0</td>\n",
       "      <td>5000</td>\n",
       "      <td>Paid</td>\n",
       "      <td>399.99</td>\n",
       "      <td>Everyone</td>\n",
       "      <td>Entertainment</td>\n",
       "      <td>May 30, 2017</td>\n",
       "      <td>1.54</td>\n",
       "      <td>1.6 and up</td>\n",
       "    </tr>\n",
       "    <tr>\n",
       "      <th>5364</th>\n",
       "      <td>I am rich (Most expensive app)</td>\n",
       "      <td>FINANCE</td>\n",
       "      <td>4.1</td>\n",
       "      <td>129</td>\n",
       "      <td>2700.0</td>\n",
       "      <td>1000</td>\n",
       "      <td>Paid</td>\n",
       "      <td>399.99</td>\n",
       "      <td>Teen</td>\n",
       "      <td>Finance</td>\n",
       "      <td>December 6, 2017</td>\n",
       "      <td>2</td>\n",
       "      <td>4.0.3 and up</td>\n",
       "    </tr>\n",
       "    <tr>\n",
       "      <th>5366</th>\n",
       "      <td>I Am Rich</td>\n",
       "      <td>FAMILY</td>\n",
       "      <td>3.6</td>\n",
       "      <td>217</td>\n",
       "      <td>4900.0</td>\n",
       "      <td>10000</td>\n",
       "      <td>Paid</td>\n",
       "      <td>389.99</td>\n",
       "      <td>Everyone</td>\n",
       "      <td>Entertainment</td>\n",
       "      <td>June 22, 2018</td>\n",
       "      <td>1.5</td>\n",
       "      <td>4.2 and up</td>\n",
       "    </tr>\n",
       "    <tr>\n",
       "      <th>5369</th>\n",
       "      <td>I am Rich</td>\n",
       "      <td>FINANCE</td>\n",
       "      <td>4.3</td>\n",
       "      <td>180</td>\n",
       "      <td>3800.0</td>\n",
       "      <td>5000</td>\n",
       "      <td>Paid</td>\n",
       "      <td>399.99</td>\n",
       "      <td>Everyone</td>\n",
       "      <td>Finance</td>\n",
       "      <td>March 22, 2018</td>\n",
       "      <td>1.0</td>\n",
       "      <td>4.2 and up</td>\n",
       "    </tr>\n",
       "    <tr>\n",
       "      <th>5373</th>\n",
       "      <td>I AM RICH PRO PLUS</td>\n",
       "      <td>FINANCE</td>\n",
       "      <td>4.0</td>\n",
       "      <td>36</td>\n",
       "      <td>41000.0</td>\n",
       "      <td>1000</td>\n",
       "      <td>Paid</td>\n",
       "      <td>399.99</td>\n",
       "      <td>Everyone</td>\n",
       "      <td>Finance</td>\n",
       "      <td>June 25, 2018</td>\n",
       "      <td>1.0.2</td>\n",
       "      <td>4.1 and up</td>\n",
       "    </tr>\n",
       "  </tbody>\n",
       "</table>\n",
       "</div>"
      ],
      "text/plain": [
       "                                 App   Category  Rating  Reviews  Size_in_KB  \\\n",
       "4197          most expensive app (H)     FAMILY     4.3        6      1500.0   \n",
       "4362                      💎 I'm rich  LIFESTYLE     3.8      718     26000.0   \n",
       "4367        I'm Rich - Trump Edition  LIFESTYLE     3.6      275      7300.0   \n",
       "5351                       I am rich  LIFESTYLE     3.8     3547      1800.0   \n",
       "5354                  I am Rich Plus     FAMILY     4.0      856      8700.0   \n",
       "5355                   I am rich VIP  LIFESTYLE     3.8      411      2600.0   \n",
       "5356               I Am Rich Premium    FINANCE     4.1     1867      4700.0   \n",
       "5357             I am extremely Rich  LIFESTYLE     2.9       41      2900.0   \n",
       "5358                      I am Rich!    FINANCE     3.8       93     22000.0   \n",
       "5359              I am rich(premium)    FINANCE     3.5      472       965.0   \n",
       "5362                   I Am Rich Pro     FAMILY     4.4      201      2700.0   \n",
       "5364  I am rich (Most expensive app)    FINANCE     4.1      129      2700.0   \n",
       "5366                       I Am Rich     FAMILY     3.6      217      4900.0   \n",
       "5369                       I am Rich    FINANCE     4.3      180      3800.0   \n",
       "5373              I AM RICH PRO PLUS    FINANCE     4.0       36     41000.0   \n",
       "\n",
       "      Installs  Type   Price Content Rating         Genres       Last Updated  \\\n",
       "4197       100  Paid  399.99       Everyone  Entertainment      July 16, 2018   \n",
       "4362     10000  Paid  399.99       Everyone      Lifestyle     March 11, 2018   \n",
       "4367     10000  Paid  400.00       Everyone      Lifestyle        May 3, 2018   \n",
       "5351    100000  Paid  399.99       Everyone      Lifestyle   January 12, 2018   \n",
       "5354     10000  Paid  399.99       Everyone  Entertainment       May 19, 2018   \n",
       "5355     10000  Paid  299.99       Everyone      Lifestyle      July 21, 2018   \n",
       "5356     50000  Paid  399.99       Everyone        Finance  November 12, 2017   \n",
       "5357      1000  Paid  379.99       Everyone      Lifestyle       July 1, 2018   \n",
       "5358      1000  Paid  399.99       Everyone        Finance  December 11, 2017   \n",
       "5359      5000  Paid  399.99       Everyone        Finance        May 1, 2017   \n",
       "5362      5000  Paid  399.99       Everyone  Entertainment       May 30, 2017   \n",
       "5364      1000  Paid  399.99           Teen        Finance   December 6, 2017   \n",
       "5366     10000  Paid  389.99       Everyone  Entertainment      June 22, 2018   \n",
       "5369      5000  Paid  399.99       Everyone        Finance     March 22, 2018   \n",
       "5373      1000  Paid  399.99       Everyone        Finance      June 25, 2018   \n",
       "\n",
       "     Current Ver   Android Ver  \n",
       "4197         1.0    7.0 and up  \n",
       "4362       1.0.0    4.4 and up  \n",
       "4367       1.0.1    4.1 and up  \n",
       "5351         2.0  4.0.3 and up  \n",
       "5354         3.0    4.4 and up  \n",
       "5355       1.1.1    4.3 and up  \n",
       "5356         1.6    4.0 and up  \n",
       "5357         1.0    4.0 and up  \n",
       "5358         1.0    4.1 and up  \n",
       "5359         3.4    4.4 and up  \n",
       "5362        1.54    1.6 and up  \n",
       "5364           2  4.0.3 and up  \n",
       "5366         1.5    4.2 and up  \n",
       "5369         1.0    4.2 and up  \n",
       "5373       1.0.2    4.1 and up  "
      ]
     },
     "execution_count": 30,
     "metadata": {},
     "output_type": "execute_result"
    }
   ],
   "source": [
    "high_price=clean_data[clean_data['Price']>200]\n",
    "high_price"
   ]
  },
  {
   "cell_type": "markdown",
   "metadata": {},
   "source": [
    "#### Dropping the rows with price greater than 200 as most of them seems to be outliers."
   ]
  },
  {
   "cell_type": "code",
   "execution_count": 31,
   "metadata": {},
   "outputs": [
    {
     "data": {
      "text/plain": [
       "(7702, 13)"
      ]
     },
     "execution_count": 31,
     "metadata": {},
     "output_type": "execute_result"
    }
   ],
   "source": [
    "clean_data.drop(high_price.index,inplace=True)\n",
    "clean_data.shape"
   ]
  },
  {
   "cell_type": "markdown",
   "metadata": {},
   "source": [
    "#### Very few apps have very high number of reviews. These are all star apps that don’t help with the analysis and, in fact, will skew it. Dropping the records having more than 2 million reviews."
   ]
  },
  {
   "cell_type": "code",
   "execution_count": 32,
   "metadata": {},
   "outputs": [
    {
     "data": {
      "text/plain": [
       "(7483, 13)"
      ]
     },
     "execution_count": 32,
     "metadata": {},
     "output_type": "execute_result"
    }
   ],
   "source": [
    "clean_data = clean_data[clean_data['Reviews']<=2000000]\n",
    "clean_data.shape"
   ]
  },
  {
   "cell_type": "code",
   "execution_count": 33,
   "metadata": {},
   "outputs": [],
   "source": [
    "#clean_data.sort_values(by=['Installs'], inplace=True)\n",
    "#clean_data"
   ]
  },
  {
   "cell_type": "markdown",
   "metadata": {},
   "source": [
    "#### There seems to be some outliers in 'Installs' field too. Apps having very high number of installs should be dropped from the analysis as they may skew the result. Finding the percentile(10,25,50,70,90,99) values for 'Installs' field. "
   ]
  },
  {
   "cell_type": "code",
   "execution_count": 34,
   "metadata": {},
   "outputs": [
    {
     "data": {
      "text/plain": [
       "count    7.483000e+03\n",
       "mean     3.947465e+06\n",
       "std      2.781831e+07\n",
       "min      5.000000e+00\n",
       "10%      1.000000e+03\n",
       "25%      1.000000e+04\n",
       "50%      1.000000e+05\n",
       "70%      1.000000e+06\n",
       "90%      1.000000e+07\n",
       "95%      1.000000e+07\n",
       "99%      5.000000e+07\n",
       "max      1.000000e+09\n",
       "Name: Installs, dtype: float64"
      ]
     },
     "execution_count": 34,
     "metadata": {},
     "output_type": "execute_result"
    }
   ],
   "source": [
    "perc = [.10, .25, .50, .70, .90, .95, .99]\n",
    "clean_data['Installs'].describe(percentiles = perc)"
   ]
  },
  {
   "cell_type": "markdown",
   "metadata": {},
   "source": [
    "#### Observation - From the above percentile values for 'Installs' field we can say that 99% data is below 50000000 so we can drop the records which are having 'Installs' greater than 50000000."
   ]
  },
  {
   "cell_type": "markdown",
   "metadata": {},
   "source": [
    "#### Dropping the records with 'Installs' greater than 50000000."
   ]
  },
  {
   "cell_type": "code",
   "execution_count": 35,
   "metadata": {},
   "outputs": [
    {
     "data": {
      "text/plain": [
       "(7423, 13)"
      ]
     },
     "execution_count": 35,
     "metadata": {},
     "output_type": "execute_result"
    }
   ],
   "source": [
    "clean_data = clean_data[clean_data['Installs']<=50000000]\n",
    "clean_data.shape"
   ]
  },
  {
   "cell_type": "markdown",
   "metadata": {},
   "source": [
    "#### Bivariate Analysis"
   ]
  },
  {
   "cell_type": "markdown",
   "metadata": {},
   "source": [
    "#### Scatter plot/joinplot for Rating vs. Price"
   ]
  },
  {
   "cell_type": "code",
   "execution_count": 36,
   "metadata": {},
   "outputs": [
    {
     "data": {
      "image/png": "[encoded data removed]",
      "text/plain": [
       "<Figure size 432x288 with 1 Axes>"
      ]
     },
     "metadata": {
      "needs_background": "light"
     },
     "output_type": "display_data"
    }
   ],
   "source": [
    "fig=plt.figure()\n",
    "ax=fig.add_axes([0,0,1,1])\n",
    "ax.scatter(clean_data['Rating'], clean_data['Price'], color='b')\n",
    "ax.set_xlabel('App Rating')\n",
    "ax.set_ylabel('App Price in $')\n",
    "ax.set_title('Scatter Plot - Rating vs Price')\n",
    "plt.show()"
   ]
  },
  {
   "cell_type": "code",
   "execution_count": 37,
   "metadata": {},
   "outputs": [
    {
     "data": {
      "text/plain": [
       "<seaborn.axisgrid.FacetGrid at 0x7ffd18685f40>"
      ]
     },
     "execution_count": 37,
     "metadata": {},
     "output_type": "execute_result"
    },
    {
     "data": {
      "image/png": "[encoded data removed]",
      "text/plain": [
       "<Figure size 417.125x360 with 1 Axes>"
      ]
     },
     "metadata": {
      "needs_background": "light"
     },
     "output_type": "display_data"
    }
   ],
   "source": [
    "sns.lmplot(x='Rating',y='Price',hue='Type',data=clean_data,fit_reg=False)"
   ]
  },
  {
   "cell_type": "markdown",
   "metadata": {},
   "source": [
    "#### Observation - From the above two plots, it is clear that there is no specific relationship between Price and Rating. Most of the Paid Apps are having high Rating."
   ]
  },
  {
   "cell_type": "markdown",
   "metadata": {},
   "source": [
    "#### Scatter plot/joinplot for Rating vs. Size_in_KB"
   ]
  },
  {
   "cell_type": "code",
   "execution_count": 38,
   "metadata": {},
   "outputs": [
    {
     "data": {
      "image/png": "[encoded data removed]",
      "text/plain": [
       "<Figure size 432x288 with 1 Axes>"
      ]
     },
     "metadata": {
      "needs_background": "light"
     },
     "output_type": "display_data"
    }
   ],
   "source": [
    "fig=plt.figure()\n",
    "ax=fig.add_axes([0,0,1,1])\n",
    "ax.scatter(clean_data['Rating'], clean_data['Size_in_KB'], color='b')\n",
    "ax.set_xlabel('Rating')\n",
    "ax.set_ylabel('Size in KB')\n",
    "ax.set_title('Scatter Plot - Rating vs Size')\n",
    "plt.show()"
   ]
  },
  {
   "cell_type": "markdown",
   "metadata": {},
   "source": [
    "#### Observation - From the above plot it is clear that the heavier apps are always having high Rating."
   ]
  },
  {
   "cell_type": "markdown",
   "metadata": {},
   "source": [
    "#### Scatter plot/joinplot for Rating vs. Reviews"
   ]
  },
  {
   "cell_type": "code",
   "execution_count": 39,
   "metadata": {},
   "outputs": [
    {
     "data": {
      "image/png": "[encoded data removed]",
      "text/plain": [
       "<Figure size 432x288 with 1 Axes>"
      ]
     },
     "metadata": {
      "needs_background": "light"
     },
     "output_type": "display_data"
    }
   ],
   "source": [
    "fig=plt.figure()\n",
    "ax=fig.add_axes([0,0,1,1])\n",
    "ax.scatter(clean_data['Rating'], clean_data['Reviews'], color='b')\n",
    "ax.set_xlabel('Rating')\n",
    "ax.set_ylabel('Reviews')\n",
    "ax.set_title('Scatter Plot - Rating vs Reviews')\n",
    "plt.show()"
   ]
  },
  {
   "cell_type": "markdown",
   "metadata": {},
   "source": [
    "#### Observation - From the above plot it is clear that high rated Apps are having more reviews."
   ]
  },
  {
   "cell_type": "markdown",
   "metadata": {},
   "source": [
    "#### Boxplot for Rating vs. Content Rating"
   ]
  },
  {
   "cell_type": "code",
   "execution_count": 40,
   "metadata": {},
   "outputs": [
    {
     "data": {
      "image/png": "[encoded data removed]",
      "text/plain": [
       "<Figure size 720x720 with 1 Axes>"
      ]
     },
     "metadata": {
      "needs_background": "light"
     },
     "output_type": "display_data"
    }
   ],
   "source": [
    "plt.figure(figsize=(10,10))\n",
    "sns.boxplot(x=clean_data[\"Content Rating\"],y=clean_data[\"Rating\"])\n",
    "plt.show()"
   ]
  },
  {
   "cell_type": "markdown",
   "metadata": {},
   "source": [
    "#### Observation - From the above plot, we can say that the median of most of the Apps are similar except for 'Adult only 18+'. It is little higher than the other ones."
   ]
  },
  {
   "cell_type": "markdown",
   "metadata": {},
   "source": [
    "#### Boxplot for Ratings vs. Category"
   ]
  },
  {
   "cell_type": "code",
   "execution_count": 41,
   "metadata": {},
   "outputs": [
    {
     "data": {
      "image/png": "[encoded data removed]",
      "text/plain": [
       "<Figure size 864x720 with 1 Axes>"
      ]
     },
     "metadata": {
      "needs_background": "light"
     },
     "output_type": "display_data"
    }
   ],
   "source": [
    "plt.figure(figsize=(12,10))\n",
    "sns.boxplot(x=clean_data[\"Rating\"],y=clean_data[\"Category\"])\n",
    "plt.show()"
   ]
  },
  {
   "cell_type": "markdown",
   "metadata": {},
   "source": [
    "#### Observation - The Categories like 'Health and Fitness' and 'Events' are seems to have higher median than the other categories of Apps. "
   ]
  },
  {
   "cell_type": "markdown",
   "metadata": {},
   "source": [
    "#### Data preprocessing"
   ]
  },
  {
   "cell_type": "markdown",
   "metadata": {},
   "source": [
    "#### Making a copy of the dataframe for Data Processing"
   ]
  },
  {
   "cell_type": "code",
   "execution_count": 42,
   "metadata": {},
   "outputs": [
    {
     "data": {
      "text/plain": [
       "(7423, 13)"
      ]
     },
     "execution_count": 42,
     "metadata": {},
     "output_type": "execute_result"
    }
   ],
   "source": [
    "clean_data.shape"
   ]
  },
  {
   "cell_type": "code",
   "execution_count": 43,
   "metadata": {},
   "outputs": [
    {
     "data": {
      "text/plain": [
       "(7423, 13)"
      ]
     },
     "execution_count": 43,
     "metadata": {},
     "output_type": "execute_result"
    }
   ],
   "source": [
    "inp1 = pd.DataFrame(data=clean_data)\n",
    "inp1.shape"
   ]
  },
  {
   "cell_type": "markdown",
   "metadata": {},
   "source": [
    "#### Reviews and Install have some values that are still relatively very high. Before building a linear regression model, we need to reduce the skew. Applying log transformation to Reviews and Installs."
   ]
  },
  {
   "cell_type": "code",
   "execution_count": 44,
   "metadata": {},
   "outputs": [
    {
     "data": {
      "text/html": [
       "<div>\n",
       "<style scoped>\n",
       "    .dataframe tbody tr th:only-of-type {\n",
       "        vertical-align: middle;\n",
       "    }\n",
       "\n",
       "    .dataframe tbody tr th {\n",
       "        vertical-align: top;\n",
       "    }\n",
       "\n",
       "    .dataframe thead th {\n",
       "        text-align: right;\n",
       "    }\n",
       "</style>\n",
       "<table border=\"1\" class=\"dataframe\">\n",
       "  <thead>\n",
       "    <tr style=\"text-align: right;\">\n",
       "      <th></th>\n",
       "      <th>App</th>\n",
       "      <th>Category</th>\n",
       "      <th>Rating</th>\n",
       "      <th>Reviews</th>\n",
       "      <th>Size_in_KB</th>\n",
       "      <th>Installs</th>\n",
       "      <th>Type</th>\n",
       "      <th>Price</th>\n",
       "      <th>Content Rating</th>\n",
       "      <th>Genres</th>\n",
       "      <th>Last Updated</th>\n",
       "      <th>Current Ver</th>\n",
       "      <th>Android Ver</th>\n",
       "    </tr>\n",
       "  </thead>\n",
       "  <tbody>\n",
       "    <tr>\n",
       "      <th>0</th>\n",
       "      <td>Photo Editor &amp; Candy Camera &amp; Grid &amp; ScrapBook</td>\n",
       "      <td>ART_AND_DESIGN</td>\n",
       "      <td>4.1</td>\n",
       "      <td>159</td>\n",
       "      <td>19000.0</td>\n",
       "      <td>10000</td>\n",
       "      <td>Free</td>\n",
       "      <td>0.0</td>\n",
       "      <td>Everyone</td>\n",
       "      <td>Art &amp; Design</td>\n",
       "      <td>January 7, 2018</td>\n",
       "      <td>1.0.0</td>\n",
       "      <td>4.0.3 and up</td>\n",
       "    </tr>\n",
       "    <tr>\n",
       "      <th>1</th>\n",
       "      <td>Coloring book moana</td>\n",
       "      <td>ART_AND_DESIGN</td>\n",
       "      <td>3.9</td>\n",
       "      <td>967</td>\n",
       "      <td>14000.0</td>\n",
       "      <td>500000</td>\n",
       "      <td>Free</td>\n",
       "      <td>0.0</td>\n",
       "      <td>Everyone</td>\n",
       "      <td>Art &amp; Design;Pretend Play</td>\n",
       "      <td>January 15, 2018</td>\n",
       "      <td>2.0.0</td>\n",
       "      <td>4.0.3 and up</td>\n",
       "    </tr>\n",
       "    <tr>\n",
       "      <th>2</th>\n",
       "      <td>U Launcher Lite – FREE Live Cool Themes, Hide ...</td>\n",
       "      <td>ART_AND_DESIGN</td>\n",
       "      <td>4.7</td>\n",
       "      <td>87510</td>\n",
       "      <td>8700.0</td>\n",
       "      <td>5000000</td>\n",
       "      <td>Free</td>\n",
       "      <td>0.0</td>\n",
       "      <td>Everyone</td>\n",
       "      <td>Art &amp; Design</td>\n",
       "      <td>August 1, 2018</td>\n",
       "      <td>1.2.4</td>\n",
       "      <td>4.0.3 and up</td>\n",
       "    </tr>\n",
       "    <tr>\n",
       "      <th>3</th>\n",
       "      <td>Sketch - Draw &amp; Paint</td>\n",
       "      <td>ART_AND_DESIGN</td>\n",
       "      <td>4.5</td>\n",
       "      <td>215644</td>\n",
       "      <td>25000.0</td>\n",
       "      <td>50000000</td>\n",
       "      <td>Free</td>\n",
       "      <td>0.0</td>\n",
       "      <td>Teen</td>\n",
       "      <td>Art &amp; Design</td>\n",
       "      <td>June 8, 2018</td>\n",
       "      <td>Varies with device</td>\n",
       "      <td>4.2 and up</td>\n",
       "    </tr>\n",
       "    <tr>\n",
       "      <th>4</th>\n",
       "      <td>Pixel Draw - Number Art Coloring Book</td>\n",
       "      <td>ART_AND_DESIGN</td>\n",
       "      <td>4.3</td>\n",
       "      <td>967</td>\n",
       "      <td>2800.0</td>\n",
       "      <td>100000</td>\n",
       "      <td>Free</td>\n",
       "      <td>0.0</td>\n",
       "      <td>Everyone</td>\n",
       "      <td>Art &amp; Design;Creativity</td>\n",
       "      <td>June 20, 2018</td>\n",
       "      <td>1.1</td>\n",
       "      <td>4.4 and up</td>\n",
       "    </tr>\n",
       "  </tbody>\n",
       "</table>\n",
       "</div>"
      ],
      "text/plain": [
       "                                                 App        Category  Rating  \\\n",
       "0     Photo Editor & Candy Camera & Grid & ScrapBook  ART_AND_DESIGN     4.1   \n",
       "1                                Coloring book moana  ART_AND_DESIGN     3.9   \n",
       "2  U Launcher Lite – FREE Live Cool Themes, Hide ...  ART_AND_DESIGN     4.7   \n",
       "3                              Sketch - Draw & Paint  ART_AND_DESIGN     4.5   \n",
       "4              Pixel Draw - Number Art Coloring Book  ART_AND_DESIGN     4.3   \n",
       "\n",
       "   Reviews  Size_in_KB  Installs  Type  Price Content Rating  \\\n",
       "0      159     19000.0     10000  Free    0.0       Everyone   \n",
       "1      967     14000.0    500000  Free    0.0       Everyone   \n",
       "2    87510      8700.0   5000000  Free    0.0       Everyone   \n",
       "3   215644     25000.0  50000000  Free    0.0           Teen   \n",
       "4      967      2800.0    100000  Free    0.0       Everyone   \n",
       "\n",
       "                      Genres      Last Updated         Current Ver  \\\n",
       "0               Art & Design   January 7, 2018               1.0.0   \n",
       "1  Art & Design;Pretend Play  January 15, 2018               2.0.0   \n",
       "2               Art & Design    August 1, 2018               1.2.4   \n",
       "3               Art & Design      June 8, 2018  Varies with device   \n",
       "4    Art & Design;Creativity     June 20, 2018                 1.1   \n",
       "\n",
       "    Android Ver  \n",
       "0  4.0.3 and up  \n",
       "1  4.0.3 and up  \n",
       "2  4.0.3 and up  \n",
       "3    4.2 and up  \n",
       "4    4.4 and up  "
      ]
     },
     "execution_count": 44,
     "metadata": {},
     "output_type": "execute_result"
    }
   ],
   "source": [
    "inp1.head()"
   ]
  },
  {
   "cell_type": "code",
   "execution_count": 45,
   "metadata": {},
   "outputs": [
    {
     "data": {
      "text/html": [
       "<div>\n",
       "<style scoped>\n",
       "    .dataframe tbody tr th:only-of-type {\n",
       "        vertical-align: middle;\n",
       "    }\n",
       "\n",
       "    .dataframe tbody tr th {\n",
       "        vertical-align: top;\n",
       "    }\n",
       "\n",
       "    .dataframe thead th {\n",
       "        text-align: right;\n",
       "    }\n",
       "</style>\n",
       "<table border=\"1\" class=\"dataframe\">\n",
       "  <thead>\n",
       "    <tr style=\"text-align: right;\">\n",
       "      <th></th>\n",
       "      <th>App</th>\n",
       "      <th>Category</th>\n",
       "      <th>Rating</th>\n",
       "      <th>Reviews</th>\n",
       "      <th>Size_in_KB</th>\n",
       "      <th>Installs</th>\n",
       "      <th>Type</th>\n",
       "      <th>Price</th>\n",
       "      <th>Content Rating</th>\n",
       "      <th>Genres</th>\n",
       "      <th>Last Updated</th>\n",
       "      <th>Current Ver</th>\n",
       "      <th>Android Ver</th>\n",
       "    </tr>\n",
       "  </thead>\n",
       "  <tbody>\n",
       "    <tr>\n",
       "      <th>0</th>\n",
       "      <td>Photo Editor &amp; Candy Camera &amp; Grid &amp; ScrapBook</td>\n",
       "      <td>ART_AND_DESIGN</td>\n",
       "      <td>4.1</td>\n",
       "      <td>5.075174</td>\n",
       "      <td>19000.0</td>\n",
       "      <td>9.210440</td>\n",
       "      <td>Free</td>\n",
       "      <td>0.0</td>\n",
       "      <td>Everyone</td>\n",
       "      <td>Art &amp; Design</td>\n",
       "      <td>January 7, 2018</td>\n",
       "      <td>1.0.0</td>\n",
       "      <td>4.0.3 and up</td>\n",
       "    </tr>\n",
       "    <tr>\n",
       "      <th>1</th>\n",
       "      <td>Coloring book moana</td>\n",
       "      <td>ART_AND_DESIGN</td>\n",
       "      <td>3.9</td>\n",
       "      <td>6.875232</td>\n",
       "      <td>14000.0</td>\n",
       "      <td>13.122365</td>\n",
       "      <td>Free</td>\n",
       "      <td>0.0</td>\n",
       "      <td>Everyone</td>\n",
       "      <td>Art &amp; Design;Pretend Play</td>\n",
       "      <td>January 15, 2018</td>\n",
       "      <td>2.0.0</td>\n",
       "      <td>4.0.3 and up</td>\n",
       "    </tr>\n",
       "    <tr>\n",
       "      <th>2</th>\n",
       "      <td>U Launcher Lite – FREE Live Cool Themes, Hide ...</td>\n",
       "      <td>ART_AND_DESIGN</td>\n",
       "      <td>4.7</td>\n",
       "      <td>11.379520</td>\n",
       "      <td>8700.0</td>\n",
       "      <td>15.424949</td>\n",
       "      <td>Free</td>\n",
       "      <td>0.0</td>\n",
       "      <td>Everyone</td>\n",
       "      <td>Art &amp; Design</td>\n",
       "      <td>August 1, 2018</td>\n",
       "      <td>1.2.4</td>\n",
       "      <td>4.0.3 and up</td>\n",
       "    </tr>\n",
       "    <tr>\n",
       "      <th>3</th>\n",
       "      <td>Sketch - Draw &amp; Paint</td>\n",
       "      <td>ART_AND_DESIGN</td>\n",
       "      <td>4.5</td>\n",
       "      <td>12.281389</td>\n",
       "      <td>25000.0</td>\n",
       "      <td>17.727534</td>\n",
       "      <td>Free</td>\n",
       "      <td>0.0</td>\n",
       "      <td>Teen</td>\n",
       "      <td>Art &amp; Design</td>\n",
       "      <td>June 8, 2018</td>\n",
       "      <td>Varies with device</td>\n",
       "      <td>4.2 and up</td>\n",
       "    </tr>\n",
       "    <tr>\n",
       "      <th>4</th>\n",
       "      <td>Pixel Draw - Number Art Coloring Book</td>\n",
       "      <td>ART_AND_DESIGN</td>\n",
       "      <td>4.3</td>\n",
       "      <td>6.875232</td>\n",
       "      <td>2800.0</td>\n",
       "      <td>11.512935</td>\n",
       "      <td>Free</td>\n",
       "      <td>0.0</td>\n",
       "      <td>Everyone</td>\n",
       "      <td>Art &amp; Design;Creativity</td>\n",
       "      <td>June 20, 2018</td>\n",
       "      <td>1.1</td>\n",
       "      <td>4.4 and up</td>\n",
       "    </tr>\n",
       "  </tbody>\n",
       "</table>\n",
       "</div>"
      ],
      "text/plain": [
       "                                                 App        Category  Rating  \\\n",
       "0     Photo Editor & Candy Camera & Grid & ScrapBook  ART_AND_DESIGN     4.1   \n",
       "1                                Coloring book moana  ART_AND_DESIGN     3.9   \n",
       "2  U Launcher Lite – FREE Live Cool Themes, Hide ...  ART_AND_DESIGN     4.7   \n",
       "3                              Sketch - Draw & Paint  ART_AND_DESIGN     4.5   \n",
       "4              Pixel Draw - Number Art Coloring Book  ART_AND_DESIGN     4.3   \n",
       "\n",
       "     Reviews  Size_in_KB   Installs  Type  Price Content Rating  \\\n",
       "0   5.075174     19000.0   9.210440  Free    0.0       Everyone   \n",
       "1   6.875232     14000.0  13.122365  Free    0.0       Everyone   \n",
       "2  11.379520      8700.0  15.424949  Free    0.0       Everyone   \n",
       "3  12.281389     25000.0  17.727534  Free    0.0           Teen   \n",
       "4   6.875232      2800.0  11.512935  Free    0.0       Everyone   \n",
       "\n",
       "                      Genres      Last Updated         Current Ver  \\\n",
       "0               Art & Design   January 7, 2018               1.0.0   \n",
       "1  Art & Design;Pretend Play  January 15, 2018               2.0.0   \n",
       "2               Art & Design    August 1, 2018               1.2.4   \n",
       "3               Art & Design      June 8, 2018  Varies with device   \n",
       "4    Art & Design;Creativity     June 20, 2018                 1.1   \n",
       "\n",
       "    Android Ver  \n",
       "0  4.0.3 and up  \n",
       "1  4.0.3 and up  \n",
       "2  4.0.3 and up  \n",
       "3    4.2 and up  \n",
       "4    4.4 and up  "
      ]
     },
     "execution_count": 45,
     "metadata": {},
     "output_type": "execute_result"
    }
   ],
   "source": [
    "inp1['Reviews'] = np.log1p(inp1['Reviews'])\n",
    "inp1['Installs'] = np.log1p(inp1['Installs'])\n",
    "inp1.head()"
   ]
  },
  {
   "cell_type": "markdown",
   "metadata": {},
   "source": [
    "#### Dropping columns App, Last Updated, Current Ver, and Android Ver. These variables are not useful for our task."
   ]
  },
  {
   "cell_type": "code",
   "execution_count": 46,
   "metadata": {},
   "outputs": [
    {
     "data": {
      "text/html": [
       "<div>\n",
       "<style scoped>\n",
       "    .dataframe tbody tr th:only-of-type {\n",
       "        vertical-align: middle;\n",
       "    }\n",
       "\n",
       "    .dataframe tbody tr th {\n",
       "        vertical-align: top;\n",
       "    }\n",
       "\n",
       "    .dataframe thead th {\n",
       "        text-align: right;\n",
       "    }\n",
       "</style>\n",
       "<table border=\"1\" class=\"dataframe\">\n",
       "  <thead>\n",
       "    <tr style=\"text-align: right;\">\n",
       "      <th></th>\n",
       "      <th>Category</th>\n",
       "      <th>Rating</th>\n",
       "      <th>Reviews</th>\n",
       "      <th>Size_in_KB</th>\n",
       "      <th>Installs</th>\n",
       "      <th>Type</th>\n",
       "      <th>Price</th>\n",
       "      <th>Content Rating</th>\n",
       "      <th>Genres</th>\n",
       "    </tr>\n",
       "  </thead>\n",
       "  <tbody>\n",
       "    <tr>\n",
       "      <th>0</th>\n",
       "      <td>ART_AND_DESIGN</td>\n",
       "      <td>4.1</td>\n",
       "      <td>5.075174</td>\n",
       "      <td>19000.0</td>\n",
       "      <td>9.210440</td>\n",
       "      <td>Free</td>\n",
       "      <td>0.0</td>\n",
       "      <td>Everyone</td>\n",
       "      <td>Art &amp; Design</td>\n",
       "    </tr>\n",
       "    <tr>\n",
       "      <th>1</th>\n",
       "      <td>ART_AND_DESIGN</td>\n",
       "      <td>3.9</td>\n",
       "      <td>6.875232</td>\n",
       "      <td>14000.0</td>\n",
       "      <td>13.122365</td>\n",
       "      <td>Free</td>\n",
       "      <td>0.0</td>\n",
       "      <td>Everyone</td>\n",
       "      <td>Art &amp; Design;Pretend Play</td>\n",
       "    </tr>\n",
       "    <tr>\n",
       "      <th>2</th>\n",
       "      <td>ART_AND_DESIGN</td>\n",
       "      <td>4.7</td>\n",
       "      <td>11.379520</td>\n",
       "      <td>8700.0</td>\n",
       "      <td>15.424949</td>\n",
       "      <td>Free</td>\n",
       "      <td>0.0</td>\n",
       "      <td>Everyone</td>\n",
       "      <td>Art &amp; Design</td>\n",
       "    </tr>\n",
       "    <tr>\n",
       "      <th>3</th>\n",
       "      <td>ART_AND_DESIGN</td>\n",
       "      <td>4.5</td>\n",
       "      <td>12.281389</td>\n",
       "      <td>25000.0</td>\n",
       "      <td>17.727534</td>\n",
       "      <td>Free</td>\n",
       "      <td>0.0</td>\n",
       "      <td>Teen</td>\n",
       "      <td>Art &amp; Design</td>\n",
       "    </tr>\n",
       "    <tr>\n",
       "      <th>4</th>\n",
       "      <td>ART_AND_DESIGN</td>\n",
       "      <td>4.3</td>\n",
       "      <td>6.875232</td>\n",
       "      <td>2800.0</td>\n",
       "      <td>11.512935</td>\n",
       "      <td>Free</td>\n",
       "      <td>0.0</td>\n",
       "      <td>Everyone</td>\n",
       "      <td>Art &amp; Design;Creativity</td>\n",
       "    </tr>\n",
       "  </tbody>\n",
       "</table>\n",
       "</div>"
      ],
      "text/plain": [
       "         Category  Rating    Reviews  Size_in_KB   Installs  Type  Price  \\\n",
       "0  ART_AND_DESIGN     4.1   5.075174     19000.0   9.210440  Free    0.0   \n",
       "1  ART_AND_DESIGN     3.9   6.875232     14000.0  13.122365  Free    0.0   \n",
       "2  ART_AND_DESIGN     4.7  11.379520      8700.0  15.424949  Free    0.0   \n",
       "3  ART_AND_DESIGN     4.5  12.281389     25000.0  17.727534  Free    0.0   \n",
       "4  ART_AND_DESIGN     4.3   6.875232      2800.0  11.512935  Free    0.0   \n",
       "\n",
       "  Content Rating                     Genres  \n",
       "0       Everyone               Art & Design  \n",
       "1       Everyone  Art & Design;Pretend Play  \n",
       "2       Everyone               Art & Design  \n",
       "3           Teen               Art & Design  \n",
       "4       Everyone    Art & Design;Creativity  "
      ]
     },
     "execution_count": 46,
     "metadata": {},
     "output_type": "execute_result"
    }
   ],
   "source": [
    "inp1.drop(['App', 'Last Updated','Current Ver', 'Android Ver' ], axis='columns', inplace=True)\n",
    "inp1.head()"
   ]
  },
  {
   "cell_type": "markdown",
   "metadata": {},
   "source": [
    "#### Creating dummy columns for columns 'Category', 'Genres' and 'Content Rating'"
   ]
  },
  {
   "cell_type": "code",
   "execution_count": 47,
   "metadata": {},
   "outputs": [
    {
     "data": {
      "text/html": [
       "<div>\n",
       "<style scoped>\n",
       "    .dataframe tbody tr th:only-of-type {\n",
       "        vertical-align: middle;\n",
       "    }\n",
       "\n",
       "    .dataframe tbody tr th {\n",
       "        vertical-align: top;\n",
       "    }\n",
       "\n",
       "    .dataframe thead th {\n",
       "        text-align: right;\n",
       "    }\n",
       "</style>\n",
       "<table border=\"1\" class=\"dataframe\">\n",
       "  <thead>\n",
       "    <tr style=\"text-align: right;\">\n",
       "      <th></th>\n",
       "      <th>Rating</th>\n",
       "      <th>Reviews</th>\n",
       "      <th>Size_in_KB</th>\n",
       "      <th>Installs</th>\n",
       "      <th>Type</th>\n",
       "      <th>Price</th>\n",
       "      <th>Category_ART_AND_DESIGN</th>\n",
       "      <th>Category_AUTO_AND_VEHICLES</th>\n",
       "      <th>Category_BEAUTY</th>\n",
       "      <th>Category_BOOKS_AND_REFERENCE</th>\n",
       "      <th>...</th>\n",
       "      <th>Genres_Video Players &amp; Editors;Creativity</th>\n",
       "      <th>Genres_Video Players &amp; Editors;Music &amp; Video</th>\n",
       "      <th>Genres_Weather</th>\n",
       "      <th>Genres_Word</th>\n",
       "      <th>Content Rating_Adults only 18+</th>\n",
       "      <th>Content Rating_Everyone</th>\n",
       "      <th>Content Rating_Everyone 10+</th>\n",
       "      <th>Content Rating_Mature 17+</th>\n",
       "      <th>Content Rating_Teen</th>\n",
       "      <th>Content Rating_Unrated</th>\n",
       "    </tr>\n",
       "  </thead>\n",
       "  <tbody>\n",
       "    <tr>\n",
       "      <th>0</th>\n",
       "      <td>4.1</td>\n",
       "      <td>5.075174</td>\n",
       "      <td>19000.0</td>\n",
       "      <td>9.210440</td>\n",
       "      <td>Free</td>\n",
       "      <td>0.0</td>\n",
       "      <td>1</td>\n",
       "      <td>0</td>\n",
       "      <td>0</td>\n",
       "      <td>0</td>\n",
       "      <td>...</td>\n",
       "      <td>0</td>\n",
       "      <td>0</td>\n",
       "      <td>0</td>\n",
       "      <td>0</td>\n",
       "      <td>0</td>\n",
       "      <td>1</td>\n",
       "      <td>0</td>\n",
       "      <td>0</td>\n",
       "      <td>0</td>\n",
       "      <td>0</td>\n",
       "    </tr>\n",
       "    <tr>\n",
       "      <th>1</th>\n",
       "      <td>3.9</td>\n",
       "      <td>6.875232</td>\n",
       "      <td>14000.0</td>\n",
       "      <td>13.122365</td>\n",
       "      <td>Free</td>\n",
       "      <td>0.0</td>\n",
       "      <td>1</td>\n",
       "      <td>0</td>\n",
       "      <td>0</td>\n",
       "      <td>0</td>\n",
       "      <td>...</td>\n",
       "      <td>0</td>\n",
       "      <td>0</td>\n",
       "      <td>0</td>\n",
       "      <td>0</td>\n",
       "      <td>0</td>\n",
       "      <td>1</td>\n",
       "      <td>0</td>\n",
       "      <td>0</td>\n",
       "      <td>0</td>\n",
       "      <td>0</td>\n",
       "    </tr>\n",
       "    <tr>\n",
       "      <th>2</th>\n",
       "      <td>4.7</td>\n",
       "      <td>11.379520</td>\n",
       "      <td>8700.0</td>\n",
       "      <td>15.424949</td>\n",
       "      <td>Free</td>\n",
       "      <td>0.0</td>\n",
       "      <td>1</td>\n",
       "      <td>0</td>\n",
       "      <td>0</td>\n",
       "      <td>0</td>\n",
       "      <td>...</td>\n",
       "      <td>0</td>\n",
       "      <td>0</td>\n",
       "      <td>0</td>\n",
       "      <td>0</td>\n",
       "      <td>0</td>\n",
       "      <td>1</td>\n",
       "      <td>0</td>\n",
       "      <td>0</td>\n",
       "      <td>0</td>\n",
       "      <td>0</td>\n",
       "    </tr>\n",
       "    <tr>\n",
       "      <th>3</th>\n",
       "      <td>4.5</td>\n",
       "      <td>12.281389</td>\n",
       "      <td>25000.0</td>\n",
       "      <td>17.727534</td>\n",
       "      <td>Free</td>\n",
       "      <td>0.0</td>\n",
       "      <td>1</td>\n",
       "      <td>0</td>\n",
       "      <td>0</td>\n",
       "      <td>0</td>\n",
       "      <td>...</td>\n",
       "      <td>0</td>\n",
       "      <td>0</td>\n",
       "      <td>0</td>\n",
       "      <td>0</td>\n",
       "      <td>0</td>\n",
       "      <td>0</td>\n",
       "      <td>0</td>\n",
       "      <td>0</td>\n",
       "      <td>1</td>\n",
       "      <td>0</td>\n",
       "    </tr>\n",
       "    <tr>\n",
       "      <th>4</th>\n",
       "      <td>4.3</td>\n",
       "      <td>6.875232</td>\n",
       "      <td>2800.0</td>\n",
       "      <td>11.512935</td>\n",
       "      <td>Free</td>\n",
       "      <td>0.0</td>\n",
       "      <td>1</td>\n",
       "      <td>0</td>\n",
       "      <td>0</td>\n",
       "      <td>0</td>\n",
       "      <td>...</td>\n",
       "      <td>0</td>\n",
       "      <td>0</td>\n",
       "      <td>0</td>\n",
       "      <td>0</td>\n",
       "      <td>0</td>\n",
       "      <td>1</td>\n",
       "      <td>0</td>\n",
       "      <td>0</td>\n",
       "      <td>0</td>\n",
       "      <td>0</td>\n",
       "    </tr>\n",
       "  </tbody>\n",
       "</table>\n",
       "<p>5 rows × 157 columns</p>\n",
       "</div>"
      ],
      "text/plain": [
       "   Rating    Reviews  Size_in_KB   Installs  Type  Price  \\\n",
       "0     4.1   5.075174     19000.0   9.210440  Free    0.0   \n",
       "1     3.9   6.875232     14000.0  13.122365  Free    0.0   \n",
       "2     4.7  11.379520      8700.0  15.424949  Free    0.0   \n",
       "3     4.5  12.281389     25000.0  17.727534  Free    0.0   \n",
       "4     4.3   6.875232      2800.0  11.512935  Free    0.0   \n",
       "\n",
       "   Category_ART_AND_DESIGN  Category_AUTO_AND_VEHICLES  Category_BEAUTY  \\\n",
       "0                        1                           0                0   \n",
       "1                        1                           0                0   \n",
       "2                        1                           0                0   \n",
       "3                        1                           0                0   \n",
       "4                        1                           0                0   \n",
       "\n",
       "   Category_BOOKS_AND_REFERENCE  ...  \\\n",
       "0                             0  ...   \n",
       "1                             0  ...   \n",
       "2                             0  ...   \n",
       "3                             0  ...   \n",
       "4                             0  ...   \n",
       "\n",
       "   Genres_Video Players & Editors;Creativity  \\\n",
       "0                                          0   \n",
       "1                                          0   \n",
       "2                                          0   \n",
       "3                                          0   \n",
       "4                                          0   \n",
       "\n",
       "   Genres_Video Players & Editors;Music & Video  Genres_Weather  Genres_Word  \\\n",
       "0                                             0               0            0   \n",
       "1                                             0               0            0   \n",
       "2                                             0               0            0   \n",
       "3                                             0               0            0   \n",
       "4                                             0               0            0   \n",
       "\n",
       "   Content Rating_Adults only 18+  Content Rating_Everyone  \\\n",
       "0                               0                        1   \n",
       "1                               0                        1   \n",
       "2                               0                        1   \n",
       "3                               0                        0   \n",
       "4                               0                        1   \n",
       "\n",
       "   Content Rating_Everyone 10+  Content Rating_Mature 17+  \\\n",
       "0                            0                          0   \n",
       "1                            0                          0   \n",
       "2                            0                          0   \n",
       "3                            0                          0   \n",
       "4                            0                          0   \n",
       "\n",
       "   Content Rating_Teen  Content Rating_Unrated  \n",
       "0                    0                       0  \n",
       "1                    0                       0  \n",
       "2                    0                       0  \n",
       "3                    1                       0  \n",
       "4                    0                       0  \n",
       "\n",
       "[5 rows x 157 columns]"
      ]
     },
     "execution_count": 47,
     "metadata": {},
     "output_type": "execute_result"
    }
   ],
   "source": [
    "inp2 = pd.get_dummies(inp1, columns = ['Category','Genres', 'Content Rating'])\n",
    "inp2.head()"
   ]
  },
  {
   "cell_type": "markdown",
   "metadata": {},
   "source": [
    "#### Splitting the data into train and test and applying 70-30 split."
   ]
  },
  {
   "cell_type": "code",
   "execution_count": 48,
   "metadata": {},
   "outputs": [
    {
     "data": {
      "text/plain": [
       "(7423, 157)"
      ]
     },
     "execution_count": 48,
     "metadata": {},
     "output_type": "execute_result"
    }
   ],
   "source": [
    "inp2.shape"
   ]
  },
  {
   "cell_type": "code",
   "execution_count": 49,
   "metadata": {},
   "outputs": [],
   "source": [
    "df_train,df_test=train_test_split(inp2,test_size=.30,random_state=2020)"
   ]
  },
  {
   "cell_type": "code",
   "execution_count": 50,
   "metadata": {},
   "outputs": [
    {
     "data": {
      "text/plain": [
       "(5196, 157)"
      ]
     },
     "execution_count": 50,
     "metadata": {},
     "output_type": "execute_result"
    }
   ],
   "source": [
    "df_train.shape"
   ]
  },
  {
   "cell_type": "code",
   "execution_count": 51,
   "metadata": {},
   "outputs": [
    {
     "data": {
      "text/plain": [
       "(2227, 157)"
      ]
     },
     "execution_count": 51,
     "metadata": {},
     "output_type": "execute_result"
    }
   ],
   "source": [
    "df_test.shape"
   ]
  },
  {
   "cell_type": "markdown",
   "metadata": {},
   "source": [
    "#### Splitting the dataframes for dependent and independent variable into X_train, y_train, X_test, and y_test."
   ]
  },
  {
   "cell_type": "code",
   "execution_count": 52,
   "metadata": {},
   "outputs": [],
   "source": [
    "inp2=pd.get_dummies(inp1,drop_first=True)\n",
    "x=inp2.iloc[:,1:]\n",
    "y=inp2.iloc[:,:1]\n",
    "from sklearn.model_selection import train_test_split\n",
    "X_train, X_test, y_train, y_test = train_test_split( x, y, test_size=0.30, random_state=2020)"
   ]
  },
  {
   "cell_type": "markdown",
   "metadata": {},
   "source": [
    "#### Model building using linear regression technique."
   ]
  },
  {
   "cell_type": "code",
   "execution_count": 53,
   "metadata": {},
   "outputs": [],
   "source": [
    "from sklearn.linear_model import LinearRegression\n",
    "regressor=LinearRegression()\n",
    "model=regressor.fit(X_train, y_train)"
   ]
  },
  {
   "cell_type": "markdown",
   "metadata": {},
   "source": [
    "#### Predicting the data for test dataframe."
   ]
  },
  {
   "cell_type": "code",
   "execution_count": 54,
   "metadata": {},
   "outputs": [
    {
     "data": {
      "text/plain": [
       "array([[4.12218941],\n",
       "       [3.99331844],\n",
       "       [4.63281193],\n",
       "       ...,\n",
       "       [4.54345777],\n",
       "       [4.08503682],\n",
       "       [3.95948807]])"
      ]
     },
     "execution_count": 54,
     "metadata": {},
     "output_type": "execute_result"
    }
   ],
   "source": [
    "y_pred=regressor.predict(X_test)\n",
    "y_pred"
   ]
  },
  {
   "cell_type": "markdown",
   "metadata": {},
   "source": [
    "#### Comparison between the actual and the predicted value of the App Rating"
   ]
  },
  {
   "cell_type": "code",
   "execution_count": 55,
   "metadata": {},
   "outputs": [
    {
     "data": {
      "text/html": [
       "<div>\n",
       "<style scoped>\n",
       "    .dataframe tbody tr th:only-of-type {\n",
       "        vertical-align: middle;\n",
       "    }\n",
       "\n",
       "    .dataframe tbody tr th {\n",
       "        vertical-align: top;\n",
       "    }\n",
       "\n",
       "    .dataframe thead th {\n",
       "        text-align: right;\n",
       "    }\n",
       "</style>\n",
       "<table border=\"1\" class=\"dataframe\">\n",
       "  <thead>\n",
       "    <tr style=\"text-align: right;\">\n",
       "      <th></th>\n",
       "      <th>Actual</th>\n",
       "      <th>Predicted</th>\n",
       "    </tr>\n",
       "  </thead>\n",
       "  <tbody>\n",
       "    <tr>\n",
       "      <th>0</th>\n",
       "      <td>4.3</td>\n",
       "      <td>4.122189</td>\n",
       "    </tr>\n",
       "    <tr>\n",
       "      <th>1</th>\n",
       "      <td>3.9</td>\n",
       "      <td>3.993318</td>\n",
       "    </tr>\n",
       "    <tr>\n",
       "      <th>2</th>\n",
       "      <td>4.3</td>\n",
       "      <td>4.632812</td>\n",
       "    </tr>\n",
       "    <tr>\n",
       "      <th>3</th>\n",
       "      <td>4.5</td>\n",
       "      <td>4.048352</td>\n",
       "    </tr>\n",
       "    <tr>\n",
       "      <th>4</th>\n",
       "      <td>4.4</td>\n",
       "      <td>4.400000</td>\n",
       "    </tr>\n",
       "    <tr>\n",
       "      <th>5</th>\n",
       "      <td>4.6</td>\n",
       "      <td>3.979563</td>\n",
       "    </tr>\n",
       "    <tr>\n",
       "      <th>6</th>\n",
       "      <td>4.4</td>\n",
       "      <td>4.621735</td>\n",
       "    </tr>\n",
       "    <tr>\n",
       "      <th>7</th>\n",
       "      <td>3.4</td>\n",
       "      <td>3.804761</td>\n",
       "    </tr>\n",
       "    <tr>\n",
       "      <th>8</th>\n",
       "      <td>4.0</td>\n",
       "      <td>4.242637</td>\n",
       "    </tr>\n",
       "    <tr>\n",
       "      <th>9</th>\n",
       "      <td>5.0</td>\n",
       "      <td>4.128803</td>\n",
       "    </tr>\n",
       "    <tr>\n",
       "      <th>10</th>\n",
       "      <td>4.1</td>\n",
       "      <td>4.084605</td>\n",
       "    </tr>\n",
       "    <tr>\n",
       "      <th>11</th>\n",
       "      <td>4.3</td>\n",
       "      <td>4.452766</td>\n",
       "    </tr>\n",
       "    <tr>\n",
       "      <th>12</th>\n",
       "      <td>3.6</td>\n",
       "      <td>3.932117</td>\n",
       "    </tr>\n",
       "    <tr>\n",
       "      <th>13</th>\n",
       "      <td>4.5</td>\n",
       "      <td>4.122405</td>\n",
       "    </tr>\n",
       "    <tr>\n",
       "      <th>14</th>\n",
       "      <td>4.0</td>\n",
       "      <td>4.284754</td>\n",
       "    </tr>\n",
       "    <tr>\n",
       "      <th>15</th>\n",
       "      <td>4.3</td>\n",
       "      <td>4.127507</td>\n",
       "    </tr>\n",
       "    <tr>\n",
       "      <th>16</th>\n",
       "      <td>4.5</td>\n",
       "      <td>4.280400</td>\n",
       "    </tr>\n",
       "    <tr>\n",
       "      <th>17</th>\n",
       "      <td>3.6</td>\n",
       "      <td>3.873190</td>\n",
       "    </tr>\n",
       "    <tr>\n",
       "      <th>18</th>\n",
       "      <td>4.2</td>\n",
       "      <td>4.164404</td>\n",
       "    </tr>\n",
       "    <tr>\n",
       "      <th>19</th>\n",
       "      <td>4.5</td>\n",
       "      <td>4.587875</td>\n",
       "    </tr>\n",
       "  </tbody>\n",
       "</table>\n",
       "</div>"
      ],
      "text/plain": [
       "    Actual  Predicted\n",
       "0      4.3   4.122189\n",
       "1      3.9   3.993318\n",
       "2      4.3   4.632812\n",
       "3      4.5   4.048352\n",
       "4      4.4   4.400000\n",
       "5      4.6   3.979563\n",
       "6      4.4   4.621735\n",
       "7      3.4   3.804761\n",
       "8      4.0   4.242637\n",
       "9      5.0   4.128803\n",
       "10     4.1   4.084605\n",
       "11     4.3   4.452766\n",
       "12     3.6   3.932117\n",
       "13     4.5   4.122405\n",
       "14     4.0   4.284754\n",
       "15     4.3   4.127507\n",
       "16     4.5   4.280400\n",
       "17     3.6   3.873190\n",
       "18     4.2   4.164404\n",
       "19     4.5   4.587875"
      ]
     },
     "execution_count": 55,
     "metadata": {},
     "output_type": "execute_result"
    }
   ],
   "source": [
    "y_test=np.array(y_test)\n",
    "y_pred=np.array(y_pred)\n",
    "df_compare=pd.DataFrame({'Actual':y_test.flatten(),'Predicted':y_pred.flatten()})\n",
    "df_compare.head(20)"
   ]
  },
  {
   "cell_type": "markdown",
   "metadata": {},
   "source": [
    "#### Observation - From the above table we can observe that the predicted value by the model is pretty close to the actual value"
   ]
  },
  {
   "cell_type": "markdown",
   "metadata": {},
   "source": [
    "#### Report the R2 on the train set"
   ]
  },
  {
   "cell_type": "code",
   "execution_count": 56,
   "metadata": {},
   "outputs": [],
   "source": [
    "from statsmodels.api import OLS\n",
    "from sklearn.metrics import r2_score\n",
    "from sklearn.metrics import mean_squared_error as ms"
   ]
  },
  {
   "cell_type": "code",
   "execution_count": 57,
   "metadata": {},
   "outputs": [
    {
     "data": {
      "text/html": [
       "<table class=\"simpletable\">\n",
       "<caption>OLS Regression Results</caption>\n",
       "<tr>\n",
       "  <th>Dep. Variable:</th>         <td>Rating</td>      <th>  R-squared:         </th> <td>   0.156</td> \n",
       "</tr>\n",
       "<tr>\n",
       "  <th>Model:</th>                   <td>OLS</td>       <th>  Adj. R-squared:    </th> <td>   0.136</td> \n",
       "</tr>\n",
       "<tr>\n",
       "  <th>Method:</th>             <td>Least Squares</td>  <th>  F-statistic:       </th> <td>   7.812</td> \n",
       "</tr>\n",
       "<tr>\n",
       "  <th>Date:</th>             <td>Fri, 22 Jan 2021</td> <th>  Prob (F-statistic):</th> <td>4.62e-114</td>\n",
       "</tr>\n",
       "<tr>\n",
       "  <th>Time:</th>                 <td>10:25:53</td>     <th>  Log-Likelihood:    </th> <td> -3914.1</td> \n",
       "</tr>\n",
       "<tr>\n",
       "  <th>No. Observations:</th>      <td>  5196</td>      <th>  AIC:               </th> <td>   8070.</td> \n",
       "</tr>\n",
       "<tr>\n",
       "  <th>Df Residuals:</th>          <td>  5075</td>      <th>  BIC:               </th> <td>   8863.</td> \n",
       "</tr>\n",
       "<tr>\n",
       "  <th>Df Model:</th>              <td>   120</td>      <th>                     </th>     <td> </td>    \n",
       "</tr>\n",
       "<tr>\n",
       "  <th>Covariance Type:</th>      <td>nonrobust</td>    <th>                     </th>     <td> </td>    \n",
       "</tr>\n",
       "</table>\n",
       "<table class=\"simpletable\">\n",
       "<tr>\n",
       "                        <td></td>                          <th>coef</th>     <th>std err</th>      <th>t</th>      <th>P>|t|</th>  <th>[0.025</th>    <th>0.975]</th>  \n",
       "</tr>\n",
       "<tr>\n",
       "  <th>Reviews</th>                                      <td>    0.1822</td> <td>    0.007</td> <td>   25.051</td> <td> 0.000</td> <td>    0.168</td> <td>    0.196</td>\n",
       "</tr>\n",
       "<tr>\n",
       "  <th>Size_in_KB</th>                                   <td> -9.07e-07</td> <td> 3.98e-07</td> <td>   -2.282</td> <td> 0.023</td> <td>-1.69e-06</td> <td>-1.28e-07</td>\n",
       "</tr>\n",
       "<tr>\n",
       "  <th>Installs</th>                                     <td>   -0.1591</td> <td>    0.007</td> <td>  -22.181</td> <td> 0.000</td> <td>   -0.173</td> <td>   -0.145</td>\n",
       "</tr>\n",
       "<tr>\n",
       "  <th>Price</th>                                        <td>   -0.0023</td> <td>    0.004</td> <td>   -0.602</td> <td> 0.547</td> <td>   -0.010</td> <td>    0.005</td>\n",
       "</tr>\n",
       "<tr>\n",
       "  <th>Category_AUTO_AND_VEHICLES</th>                   <td>    2.4277</td> <td>    0.268</td> <td>    9.047</td> <td> 0.000</td> <td>    1.902</td> <td>    2.954</td>\n",
       "</tr>\n",
       "<tr>\n",
       "  <th>Category_BEAUTY</th>                              <td>    2.5829</td> <td>    0.271</td> <td>    9.547</td> <td> 0.000</td> <td>    2.053</td> <td>    3.113</td>\n",
       "</tr>\n",
       "<tr>\n",
       "  <th>Category_BOOKS_AND_REFERENCE</th>                 <td>    2.5285</td> <td>    0.267</td> <td>    9.480</td> <td> 0.000</td> <td>    2.006</td> <td>    3.051</td>\n",
       "</tr>\n",
       "<tr>\n",
       "  <th>Category_BUSINESS</th>                            <td>    2.4422</td> <td>    0.266</td> <td>    9.178</td> <td> 0.000</td> <td>    1.921</td> <td>    2.964</td>\n",
       "</tr>\n",
       "<tr>\n",
       "  <th>Category_COMICS</th>                              <td>    3.4941</td> <td>    0.390</td> <td>    8.964</td> <td> 0.000</td> <td>    2.730</td> <td>    4.258</td>\n",
       "</tr>\n",
       "<tr>\n",
       "  <th>Category_COMMUNICATION</th>                       <td>    2.3812</td> <td>    0.266</td> <td>    8.937</td> <td> 0.000</td> <td>    1.859</td> <td>    2.904</td>\n",
       "</tr>\n",
       "<tr>\n",
       "  <th>Category_DATING</th>                              <td>    2.3180</td> <td>    0.267</td> <td>    8.680</td> <td> 0.000</td> <td>    1.795</td> <td>    2.842</td>\n",
       "</tr>\n",
       "<tr>\n",
       "  <th>Category_EDUCATION</th>                           <td>    4.7046</td> <td>    0.543</td> <td>    8.664</td> <td> 0.000</td> <td>    3.640</td> <td>    5.769</td>\n",
       "</tr>\n",
       "<tr>\n",
       "  <th>Category_ENTERTAINMENT</th>                       <td>    4.6664</td> <td>    0.544</td> <td>    8.574</td> <td> 0.000</td> <td>    3.599</td> <td>    5.733</td>\n",
       "</tr>\n",
       "<tr>\n",
       "  <th>Category_EVENTS</th>                              <td>    2.6283</td> <td>    0.270</td> <td>    9.746</td> <td> 0.000</td> <td>    2.100</td> <td>    3.157</td>\n",
       "</tr>\n",
       "<tr>\n",
       "  <th>Category_FAMILY</th>                              <td>    4.7048</td> <td>    0.538</td> <td>    8.743</td> <td> 0.000</td> <td>    3.650</td> <td>    5.760</td>\n",
       "</tr>\n",
       "<tr>\n",
       "  <th>Category_FINANCE</th>                             <td>    2.4339</td> <td>    0.266</td> <td>    9.147</td> <td> 0.000</td> <td>    1.912</td> <td>    2.956</td>\n",
       "</tr>\n",
       "<tr>\n",
       "  <th>Category_FOOD_AND_DRINK</th>                      <td>    2.4138</td> <td>    0.268</td> <td>    9.012</td> <td> 0.000</td> <td>    1.889</td> <td>    2.939</td>\n",
       "</tr>\n",
       "<tr>\n",
       "  <th>Category_GAME</th>                                <td>    4.8469</td> <td>    0.532</td> <td>    9.103</td> <td> 0.000</td> <td>    3.803</td> <td>    5.891</td>\n",
       "</tr>\n",
       "<tr>\n",
       "  <th>Category_HEALTH_AND_FITNESS</th>                  <td>    2.4678</td> <td>    0.266</td> <td>    9.268</td> <td> 0.000</td> <td>    1.946</td> <td>    2.990</td>\n",
       "</tr>\n",
       "<tr>\n",
       "  <th>Category_HOUSE_AND_HOME</th>                      <td>    2.4546</td> <td>    0.268</td> <td>    9.144</td> <td> 0.000</td> <td>    1.928</td> <td>    2.981</td>\n",
       "</tr>\n",
       "<tr>\n",
       "  <th>Category_LIBRARIES_AND_DEMO</th>                  <td>    2.5150</td> <td>    0.269</td> <td>    9.361</td> <td> 0.000</td> <td>    1.988</td> <td>    3.042</td>\n",
       "</tr>\n",
       "<tr>\n",
       "  <th>Category_LIFESTYLE</th>                           <td>    3.1995</td> <td>    0.395</td> <td>    8.107</td> <td> 0.000</td> <td>    2.426</td> <td>    3.973</td>\n",
       "</tr>\n",
       "<tr>\n",
       "  <th>Category_MAPS_AND_NAVIGATION</th>                 <td>    2.3664</td> <td>    0.267</td> <td>    8.851</td> <td> 0.000</td> <td>    1.842</td> <td>    2.891</td>\n",
       "</tr>\n",
       "<tr>\n",
       "  <th>Category_MEDICAL</th>                             <td>    2.4946</td> <td>    0.266</td> <td>    9.379</td> <td> 0.000</td> <td>    1.973</td> <td>    3.016</td>\n",
       "</tr>\n",
       "<tr>\n",
       "  <th>Category_NEWS_AND_MAGAZINES</th>                  <td>    2.4257</td> <td>    0.267</td> <td>    9.100</td> <td> 0.000</td> <td>    1.903</td> <td>    2.948</td>\n",
       "</tr>\n",
       "<tr>\n",
       "  <th>Category_PARENTING</th>                           <td>    3.8513</td> <td>    0.415</td> <td>    9.275</td> <td> 0.000</td> <td>    3.037</td> <td>    4.665</td>\n",
       "</tr>\n",
       "<tr>\n",
       "  <th>Category_PERSONALIZATION</th>                     <td>    2.5103</td> <td>    0.266</td> <td>    9.430</td> <td> 0.000</td> <td>    1.988</td> <td>    3.032</td>\n",
       "</tr>\n",
       "<tr>\n",
       "  <th>Category_PHOTOGRAPHY</th>                         <td>    2.4030</td> <td>    0.266</td> <td>    9.021</td> <td> 0.000</td> <td>    1.881</td> <td>    2.925</td>\n",
       "</tr>\n",
       "<tr>\n",
       "  <th>Category_PRODUCTIVITY</th>                        <td>    2.4445</td> <td>    0.266</td> <td>    9.180</td> <td> 0.000</td> <td>    1.922</td> <td>    2.967</td>\n",
       "</tr>\n",
       "<tr>\n",
       "  <th>Category_SHOPPING</th>                            <td>    2.4564</td> <td>    0.267</td> <td>    9.215</td> <td> 0.000</td> <td>    1.934</td> <td>    2.979</td>\n",
       "</tr>\n",
       "<tr>\n",
       "  <th>Category_SOCIAL</th>                              <td>    2.4305</td> <td>    0.266</td> <td>    9.123</td> <td> 0.000</td> <td>    1.908</td> <td>    2.953</td>\n",
       "</tr>\n",
       "<tr>\n",
       "  <th>Category_SPORTS</th>                              <td>    4.5907</td> <td>    0.648</td> <td>    7.082</td> <td> 0.000</td> <td>    3.320</td> <td>    5.861</td>\n",
       "</tr>\n",
       "<tr>\n",
       "  <th>Category_TOOLS</th>                               <td>    2.3785</td> <td>    0.266</td> <td>    8.949</td> <td> 0.000</td> <td>    1.857</td> <td>    2.900</td>\n",
       "</tr>\n",
       "<tr>\n",
       "  <th>Category_TRAVEL_AND_LOCAL</th>                    <td>    2.4090</td> <td>    0.267</td> <td>    9.033</td> <td> 0.000</td> <td>    1.886</td> <td>    2.932</td>\n",
       "</tr>\n",
       "<tr>\n",
       "  <th>Category_VIDEO_PLAYERS</th>                       <td>    4.7048</td> <td>    0.911</td> <td>    5.163</td> <td> 0.000</td> <td>    2.918</td> <td>    6.491</td>\n",
       "</tr>\n",
       "<tr>\n",
       "  <th>Category_WEATHER</th>                             <td>    2.4280</td> <td>    0.270</td> <td>    9.000</td> <td> 0.000</td> <td>    1.899</td> <td>    2.957</td>\n",
       "</tr>\n",
       "<tr>\n",
       "  <th>Type_Paid</th>                                    <td>   -0.0849</td> <td>    0.037</td> <td>   -2.298</td> <td> 0.022</td> <td>   -0.157</td> <td>   -0.012</td>\n",
       "</tr>\n",
       "<tr>\n",
       "  <th>Content Rating_Everyone</th>                      <td>   -0.2344</td> <td>    0.530</td> <td>   -0.442</td> <td> 0.658</td> <td>   -1.273</td> <td>    0.804</td>\n",
       "</tr>\n",
       "<tr>\n",
       "  <th>Content Rating_Everyone 10+</th>                  <td>   -0.2317</td> <td>    0.531</td> <td>   -0.436</td> <td> 0.663</td> <td>   -1.273</td> <td>    0.810</td>\n",
       "</tr>\n",
       "<tr>\n",
       "  <th>Content Rating_Mature 17+</th>                    <td>   -0.1979</td> <td>    0.531</td> <td>   -0.372</td> <td> 0.710</td> <td>   -1.240</td> <td>    0.844</td>\n",
       "</tr>\n",
       "<tr>\n",
       "  <th>Content Rating_Teen</th>                          <td>   -0.2142</td> <td>    0.530</td> <td>   -0.404</td> <td> 0.686</td> <td>   -1.253</td> <td>    0.825</td>\n",
       "</tr>\n",
       "<tr>\n",
       "  <th>Content Rating_Unrated</th>                       <td>   -0.2200</td> <td>    0.743</td> <td>   -0.296</td> <td> 0.767</td> <td>   -1.676</td> <td>    1.236</td>\n",
       "</tr>\n",
       "<tr>\n",
       "  <th>Genres_Action;Action & Adventure</th>             <td>    0.3022</td> <td>    0.175</td> <td>    1.726</td> <td> 0.084</td> <td>   -0.041</td> <td>    0.645</td>\n",
       "</tr>\n",
       "<tr>\n",
       "  <th>Genres_Adventure</th>                             <td>   -0.0097</td> <td>    0.086</td> <td>   -0.112</td> <td> 0.911</td> <td>   -0.179</td> <td>    0.159</td>\n",
       "</tr>\n",
       "<tr>\n",
       "  <th>Genres_Adventure;Action & Adventure</th>          <td>    0.1403</td> <td>    0.314</td> <td>    0.447</td> <td> 0.655</td> <td>   -0.475</td> <td>    0.755</td>\n",
       "</tr>\n",
       "<tr>\n",
       "  <th>Genres_Adventure;Brain Games</th>                 <td>    0.4432</td> <td>    0.529</td> <td>    0.838</td> <td> 0.402</td> <td>   -0.593</td> <td>    1.480</td>\n",
       "</tr>\n",
       "<tr>\n",
       "  <th>Genres_Adventure;Education</th>                   <td>   -0.0138</td> <td>    0.379</td> <td>   -0.036</td> <td> 0.971</td> <td>   -0.758</td> <td>    0.730</td>\n",
       "</tr>\n",
       "<tr>\n",
       "  <th>Genres_Arcade</th>                                <td>    0.0697</td> <td>    0.064</td> <td>    1.088</td> <td> 0.277</td> <td>   -0.056</td> <td>    0.195</td>\n",
       "</tr>\n",
       "<tr>\n",
       "  <th>Genres_Arcade;Action & Adventure</th>             <td>    0.2875</td> <td>    0.196</td> <td>    1.470</td> <td> 0.142</td> <td>   -0.096</td> <td>    0.671</td>\n",
       "</tr>\n",
       "<tr>\n",
       "  <th>Genres_Arcade;Pretend Play</th>                   <td>    0.4746</td> <td>    0.528</td> <td>    0.898</td> <td> 0.369</td> <td>   -0.561</td> <td>    1.510</td>\n",
       "</tr>\n",
       "<tr>\n",
       "  <th>Genres_Art & Design</th>                          <td>    5.2071</td> <td>    0.539</td> <td>    9.662</td> <td> 0.000</td> <td>    4.151</td> <td>    6.264</td>\n",
       "</tr>\n",
       "<tr>\n",
       "  <th>Genres_Art & Design;Creativity</th>               <td>    5.3208</td> <td>    0.591</td> <td>    8.999</td> <td> 0.000</td> <td>    4.162</td> <td>    6.480</td>\n",
       "</tr>\n",
       "<tr>\n",
       "  <th>Genres_Art & Design;Pretend Play</th>             <td>    0.2758</td> <td>    0.528</td> <td>    0.522</td> <td> 0.602</td> <td>   -0.760</td> <td>    1.311</td>\n",
       "</tr>\n",
       "<tr>\n",
       "  <th>Genres_Auto & Vehicles</th>                       <td>    2.4277</td> <td>    0.268</td> <td>    9.047</td> <td> 0.000</td> <td>    1.902</td> <td>    2.954</td>\n",
       "</tr>\n",
       "<tr>\n",
       "  <th>Genres_Beauty</th>                                <td>    2.5829</td> <td>    0.271</td> <td>    9.547</td> <td> 0.000</td> <td>    2.053</td> <td>    3.113</td>\n",
       "</tr>\n",
       "<tr>\n",
       "  <th>Genres_Board</th>                                 <td>    0.0593</td> <td>    0.112</td> <td>    0.528</td> <td> 0.598</td> <td>   -0.161</td> <td>    0.280</td>\n",
       "</tr>\n",
       "<tr>\n",
       "  <th>Genres_Board;Action & Adventure</th>              <td>    0.0918</td> <td>    0.314</td> <td>    0.292</td> <td> 0.770</td> <td>   -0.523</td> <td>    0.707</td>\n",
       "</tr>\n",
       "<tr>\n",
       "  <th>Genres_Board;Brain Games</th>                     <td>    0.2433</td> <td>    0.205</td> <td>    1.185</td> <td> 0.236</td> <td>   -0.159</td> <td>    0.646</td>\n",
       "</tr>\n",
       "<tr>\n",
       "  <th>Genres_Board;Pretend Play</th>                    <td>    0.8958</td> <td>    0.529</td> <td>    1.694</td> <td> 0.090</td> <td>   -0.141</td> <td>    1.932</td>\n",
       "</tr>\n",
       "<tr>\n",
       "  <th>Genres_Books & Reference</th>                     <td>    2.5285</td> <td>    0.267</td> <td>    9.480</td> <td> 0.000</td> <td>    2.006</td> <td>    3.051</td>\n",
       "</tr>\n",
       "<tr>\n",
       "  <th>Genres_Books & Reference;Education</th>           <td>    0.1823</td> <td>    0.379</td> <td>    0.481</td> <td> 0.630</td> <td>   -0.560</td> <td>    0.925</td>\n",
       "</tr>\n",
       "<tr>\n",
       "  <th>Genres_Business</th>                              <td>    2.4422</td> <td>    0.266</td> <td>    9.178</td> <td> 0.000</td> <td>    1.921</td> <td>    2.964</td>\n",
       "</tr>\n",
       "<tr>\n",
       "  <th>Genres_Card</th>                                  <td>   -0.1486</td> <td>    0.109</td> <td>   -1.361</td> <td> 0.174</td> <td>   -0.363</td> <td>    0.065</td>\n",
       "</tr>\n",
       "<tr>\n",
       "  <th>Genres_Card;Action & Adventure</th>               <td>   -0.0468</td> <td>    0.380</td> <td>   -0.123</td> <td> 0.902</td> <td>   -0.792</td> <td>    0.699</td>\n",
       "</tr>\n",
       "<tr>\n",
       "  <th>Genres_Card;Brain Games</th>                      <td> 4.886e-12</td> <td>  3.7e-11</td> <td>    0.132</td> <td> 0.895</td> <td>-6.76e-11</td> <td> 7.74e-11</td>\n",
       "</tr>\n",
       "<tr>\n",
       "  <th>Genres_Casino</th>                                <td>    0.0942</td> <td>    0.112</td> <td>    0.844</td> <td> 0.399</td> <td>   -0.125</td> <td>    0.313</td>\n",
       "</tr>\n",
       "<tr>\n",
       "  <th>Genres_Casual</th>                                <td>    0.0694</td> <td>    0.099</td> <td>    0.703</td> <td> 0.482</td> <td>   -0.124</td> <td>    0.263</td>\n",
       "</tr>\n",
       "<tr>\n",
       "  <th>Genres_Casual;Action & Adventure</th>             <td>    0.3210</td> <td>    0.188</td> <td>    1.707</td> <td> 0.088</td> <td>   -0.048</td> <td>    0.690</td>\n",
       "</tr>\n",
       "<tr>\n",
       "  <th>Genres_Casual;Brain Games</th>                    <td>    0.5943</td> <td>    0.202</td> <td>    2.949</td> <td> 0.003</td> <td>    0.199</td> <td>    0.989</td>\n",
       "</tr>\n",
       "<tr>\n",
       "  <th>Genres_Casual;Creativity</th>                     <td>    0.2602</td> <td>    0.245</td> <td>    1.061</td> <td> 0.289</td> <td>   -0.220</td> <td>    0.741</td>\n",
       "</tr>\n",
       "<tr>\n",
       "  <th>Genres_Casual;Education</th>                      <td>    0.2764</td> <td>    0.379</td> <td>    0.730</td> <td> 0.466</td> <td>   -0.466</td> <td>    1.019</td>\n",
       "</tr>\n",
       "<tr>\n",
       "  <th>Genres_Casual;Music & Video</th>                  <td>    0.2893</td> <td>    0.379</td> <td>    0.763</td> <td> 0.446</td> <td>   -0.454</td> <td>    1.033</td>\n",
       "</tr>\n",
       "<tr>\n",
       "  <th>Genres_Casual;Pretend Play</th>                   <td>    0.0994</td> <td>    0.156</td> <td>    0.636</td> <td> 0.525</td> <td>   -0.207</td> <td>    0.406</td>\n",
       "</tr>\n",
       "<tr>\n",
       "  <th>Genres_Comics</th>                                <td>    1.3601</td> <td>    0.248</td> <td>    5.491</td> <td> 0.000</td> <td>    0.874</td> <td>    1.846</td>\n",
       "</tr>\n",
       "<tr>\n",
       "  <th>Genres_Comics;Creativity</th>                     <td>    2.1340</td> <td>    0.394</td> <td>    5.422</td> <td> 0.000</td> <td>    1.362</td> <td>    2.906</td>\n",
       "</tr>\n",
       "<tr>\n",
       "  <th>Genres_Communication</th>                         <td>    2.3812</td> <td>    0.266</td> <td>    8.937</td> <td> 0.000</td> <td>    1.859</td> <td>    2.904</td>\n",
       "</tr>\n",
       "<tr>\n",
       "  <th>Genres_Dating</th>                                <td>    2.3180</td> <td>    0.267</td> <td>    8.680</td> <td> 0.000</td> <td>    1.795</td> <td>    2.842</td>\n",
       "</tr>\n",
       "<tr>\n",
       "  <th>Genres_Education</th>                             <td>    0.3321</td> <td>    0.097</td> <td>    3.428</td> <td> 0.001</td> <td>    0.142</td> <td>    0.522</td>\n",
       "</tr>\n",
       "<tr>\n",
       "  <th>Genres_Education;Action & Adventure</th>          <td>    0.4629</td> <td>    0.250</td> <td>    1.852</td> <td> 0.064</td> <td>   -0.027</td> <td>    0.953</td>\n",
       "</tr>\n",
       "<tr>\n",
       "  <th>Genres_Education;Brain Games</th>                 <td>    0.2205</td> <td>    0.533</td> <td>    0.414</td> <td> 0.679</td> <td>   -0.824</td> <td>    1.265</td>\n",
       "</tr>\n",
       "<tr>\n",
       "  <th>Genres_Education;Creativity</th>                  <td>    0.7303</td> <td>    0.278</td> <td>    2.626</td> <td> 0.009</td> <td>    0.185</td> <td>    1.275</td>\n",
       "</tr>\n",
       "<tr>\n",
       "  <th>Genres_Education;Education</th>                   <td>    0.4433</td> <td>    0.134</td> <td>    3.299</td> <td> 0.001</td> <td>    0.180</td> <td>    0.707</td>\n",
       "</tr>\n",
       "<tr>\n",
       "  <th>Genres_Education;Music & Video</th>               <td>    0.5088</td> <td>    0.528</td> <td>    0.964</td> <td> 0.335</td> <td>   -0.526</td> <td>    1.544</td>\n",
       "</tr>\n",
       "<tr>\n",
       "  <th>Genres_Education;Pretend Play</th>                <td>    0.5230</td> <td>    0.157</td> <td>    3.335</td> <td> 0.001</td> <td>    0.216</td> <td>    0.831</td>\n",
       "</tr>\n",
       "<tr>\n",
       "  <th>Genres_Educational</th>                           <td>    0.0947</td> <td>    0.147</td> <td>    0.645</td> <td> 0.519</td> <td>   -0.193</td> <td>    0.382</td>\n",
       "</tr>\n",
       "<tr>\n",
       "  <th>Genres_Educational;Action & Adventure</th>        <td>    0.3253</td> <td>    0.314</td> <td>    1.037</td> <td> 0.300</td> <td>   -0.290</td> <td>    0.941</td>\n",
       "</tr>\n",
       "<tr>\n",
       "  <th>Genres_Educational;Brain Games</th>               <td>    0.6963</td> <td>    0.379</td> <td>    1.837</td> <td> 0.066</td> <td>   -0.047</td> <td>    1.439</td>\n",
       "</tr>\n",
       "<tr>\n",
       "  <th>Genres_Educational;Creativity</th>                <td>   -0.0152</td> <td>    0.314</td> <td>   -0.048</td> <td> 0.962</td> <td>   -0.631</td> <td>    0.601</td>\n",
       "</tr>\n",
       "<tr>\n",
       "  <th>Genres_Educational;Education</th>                 <td>    0.3644</td> <td>    0.137</td> <td>    2.666</td> <td> 0.008</td> <td>    0.096</td> <td>    0.632</td>\n",
       "</tr>\n",
       "<tr>\n",
       "  <th>Genres_Educational;Pretend Play</th>              <td>    0.2735</td> <td>    0.166</td> <td>    1.644</td> <td> 0.100</td> <td>   -0.053</td> <td>    0.600</td>\n",
       "</tr>\n",
       "<tr>\n",
       "  <th>Genres_Entertainment</th>                         <td>    0.1242</td> <td>    0.096</td> <td>    1.297</td> <td> 0.195</td> <td>   -0.064</td> <td>    0.312</td>\n",
       "</tr>\n",
       "<tr>\n",
       "  <th>Genres_Entertainment;Action & Adventure</th>      <td>    0.2754</td> <td>    0.314</td> <td>    0.878</td> <td> 0.380</td> <td>   -0.340</td> <td>    0.891</td>\n",
       "</tr>\n",
       "<tr>\n",
       "  <th>Genres_Entertainment;Brain Games</th>             <td>    0.3009</td> <td>    0.233</td> <td>    1.293</td> <td> 0.196</td> <td>   -0.155</td> <td>    0.757</td>\n",
       "</tr>\n",
       "<tr>\n",
       "  <th>Genres_Entertainment;Creativity</th>              <td>    0.5682</td> <td>    0.379</td> <td>    1.499</td> <td> 0.134</td> <td>   -0.175</td> <td>    1.311</td>\n",
       "</tr>\n",
       "<tr>\n",
       "  <th>Genres_Entertainment;Education</th>               <td>    0.5150</td> <td>    0.528</td> <td>    0.975</td> <td> 0.329</td> <td>   -0.520</td> <td>    1.550</td>\n",
       "</tr>\n",
       "<tr>\n",
       "  <th>Genres_Entertainment;Music & Video</th>           <td>    0.1460</td> <td>    0.198</td> <td>    0.739</td> <td> 0.460</td> <td>   -0.241</td> <td>    0.533</td>\n",
       "</tr>\n",
       "<tr>\n",
       "  <th>Genres_Entertainment;Pretend Play</th>            <td>   -0.1127</td> <td>    0.379</td> <td>   -0.297</td> <td> 0.766</td> <td>   -0.856</td> <td>    0.630</td>\n",
       "</tr>\n",
       "<tr>\n",
       "  <th>Genres_Events</th>                                <td>    2.6283</td> <td>    0.270</td> <td>    9.746</td> <td> 0.000</td> <td>    2.100</td> <td>    3.157</td>\n",
       "</tr>\n",
       "<tr>\n",
       "  <th>Genres_Finance</th>                               <td>    2.4339</td> <td>    0.266</td> <td>    9.147</td> <td> 0.000</td> <td>    1.912</td> <td>    2.956</td>\n",
       "</tr>\n",
       "<tr>\n",
       "  <th>Genres_Food & Drink</th>                          <td>    2.4138</td> <td>    0.268</td> <td>    9.012</td> <td> 0.000</td> <td>    1.889</td> <td>    2.939</td>\n",
       "</tr>\n",
       "<tr>\n",
       "  <th>Genres_Health & Fitness</th>                      <td>    2.4678</td> <td>    0.266</td> <td>    9.268</td> <td> 0.000</td> <td>    1.946</td> <td>    2.990</td>\n",
       "</tr>\n",
       "<tr>\n",
       "  <th>Genres_Health & Fitness;Action & Adventure</th>   <td>   -0.1821</td> <td>    0.528</td> <td>   -0.345</td> <td> 0.730</td> <td>   -1.218</td> <td>    0.853</td>\n",
       "</tr>\n",
       "<tr>\n",
       "  <th>Genres_Health & Fitness;Education</th>            <td>    0.4353</td> <td>    0.528</td> <td>    0.824</td> <td> 0.410</td> <td>   -0.600</td> <td>    1.470</td>\n",
       "</tr>\n",
       "<tr>\n",
       "  <th>Genres_House & Home</th>                          <td>    2.4546</td> <td>    0.268</td> <td>    9.144</td> <td> 0.000</td> <td>    1.928</td> <td>    2.981</td>\n",
       "</tr>\n",
       "<tr>\n",
       "  <th>Genres_Libraries & Demo</th>                      <td>    2.5150</td> <td>    0.269</td> <td>    9.361</td> <td> 0.000</td> <td>    1.988</td> <td>    3.042</td>\n",
       "</tr>\n",
       "<tr>\n",
       "  <th>Genres_Lifestyle</th>                             <td>    1.6702</td> <td>    0.249</td> <td>    6.705</td> <td> 0.000</td> <td>    1.182</td> <td>    2.158</td>\n",
       "</tr>\n",
       "<tr>\n",
       "  <th>Genres_Lifestyle;Pretend Play</th>                <td>    1.5293</td> <td>    0.390</td> <td>    3.918</td> <td> 0.000</td> <td>    0.764</td> <td>    2.294</td>\n",
       "</tr>\n",
       "<tr>\n",
       "  <th>Genres_Maps & Navigation</th>                     <td>    2.3664</td> <td>    0.267</td> <td>    8.851</td> <td> 0.000</td> <td>    1.842</td> <td>    2.891</td>\n",
       "</tr>\n",
       "<tr>\n",
       "  <th>Genres_Medical</th>                               <td>    2.4946</td> <td>    0.266</td> <td>    9.379</td> <td> 0.000</td> <td>    1.973</td> <td>    3.016</td>\n",
       "</tr>\n",
       "<tr>\n",
       "  <th>Genres_Music</th>                                 <td>   -0.1950</td> <td>    0.169</td> <td>   -1.153</td> <td> 0.249</td> <td>   -0.526</td> <td>    0.137</td>\n",
       "</tr>\n",
       "<tr>\n",
       "  <th>Genres_Music & Audio;Music & Video</th>           <td> 8.551e-15</td> <td> 1.25e-12</td> <td>    0.007</td> <td> 0.995</td> <td>-2.44e-12</td> <td> 2.45e-12</td>\n",
       "</tr>\n",
       "<tr>\n",
       "  <th>Genres_Music;Music & Video</th>                   <td>    0.7798</td> <td>    0.528</td> <td>    1.476</td> <td> 0.140</td> <td>   -0.256</td> <td>    1.815</td>\n",
       "</tr>\n",
       "<tr>\n",
       "  <th>Genres_News & Magazines</th>                      <td>    2.4257</td> <td>    0.267</td> <td>    9.100</td> <td> 0.000</td> <td>    1.903</td> <td>    2.948</td>\n",
       "</tr>\n",
       "<tr>\n",
       "  <th>Genres_Parenting</th>                             <td>    1.3752</td> <td>    0.197</td> <td>    6.991</td> <td> 0.000</td> <td>    0.990</td> <td>    1.761</td>\n",
       "</tr>\n",
       "<tr>\n",
       "  <th>Genres_Parenting;Brain Games</th>                 <td> 4.856e-13</td> <td> 2.41e-12</td> <td>    0.202</td> <td> 0.840</td> <td>-4.23e-12</td> <td>  5.2e-12</td>\n",
       "</tr>\n",
       "<tr>\n",
       "  <th>Genres_Parenting;Education</th>                   <td>    0.8927</td> <td>    0.315</td> <td>    2.837</td> <td> 0.005</td> <td>    0.276</td> <td>    1.510</td>\n",
       "</tr>\n",
       "<tr>\n",
       "  <th>Genres_Parenting;Music & Video</th>               <td>    1.5833</td> <td>    0.255</td> <td>    6.207</td> <td> 0.000</td> <td>    1.083</td> <td>    2.083</td>\n",
       "</tr>\n",
       "<tr>\n",
       "  <th>Genres_Personalization</th>                       <td>    2.5103</td> <td>    0.266</td> <td>    9.430</td> <td> 0.000</td> <td>    1.988</td> <td>    3.032</td>\n",
       "</tr>\n",
       "<tr>\n",
       "  <th>Genres_Photography</th>                           <td>    2.4030</td> <td>    0.266</td> <td>    9.021</td> <td> 0.000</td> <td>    1.881</td> <td>    2.925</td>\n",
       "</tr>\n",
       "<tr>\n",
       "  <th>Genres_Productivity</th>                          <td>    2.4445</td> <td>    0.266</td> <td>    9.180</td> <td> 0.000</td> <td>    1.922</td> <td>    2.967</td>\n",
       "</tr>\n",
       "<tr>\n",
       "  <th>Genres_Puzzle</th>                                <td>    0.2427</td> <td>    0.099</td> <td>    2.453</td> <td> 0.014</td> <td>    0.049</td> <td>    0.437</td>\n",
       "</tr>\n",
       "<tr>\n",
       "  <th>Genres_Puzzle;Action & Adventure</th>             <td>    0.2181</td> <td>    0.314</td> <td>    0.695</td> <td> 0.487</td> <td>   -0.397</td> <td>    0.834</td>\n",
       "</tr>\n",
       "<tr>\n",
       "  <th>Genres_Puzzle;Brain Games</th>                    <td>    0.2940</td> <td>    0.176</td> <td>    1.675</td> <td> 0.094</td> <td>   -0.050</td> <td>    0.638</td>\n",
       "</tr>\n",
       "<tr>\n",
       "  <th>Genres_Puzzle;Creativity</th>                     <td>    0.3085</td> <td>    0.379</td> <td>    0.814</td> <td> 0.415</td> <td>   -0.434</td> <td>    1.051</td>\n",
       "</tr>\n",
       "<tr>\n",
       "  <th>Genres_Puzzle;Education</th>                      <td>    0.7552</td> <td>    0.528</td> <td>    1.430</td> <td> 0.153</td> <td>   -0.280</td> <td>    1.790</td>\n",
       "</tr>\n",
       "<tr>\n",
       "  <th>Genres_Racing</th>                                <td>   -0.0993</td> <td>    0.083</td> <td>   -1.196</td> <td> 0.232</td> <td>   -0.262</td> <td>    0.064</td>\n",
       "</tr>\n",
       "<tr>\n",
       "  <th>Genres_Racing;Action & Adventure</th>             <td>    0.2693</td> <td>    0.196</td> <td>    1.371</td> <td> 0.170</td> <td>   -0.116</td> <td>    0.654</td>\n",
       "</tr>\n",
       "<tr>\n",
       "  <th>Genres_Racing;Pretend Play</th>                   <td>    0.8912</td> <td>    0.528</td> <td>    1.687</td> <td> 0.092</td> <td>   -0.145</td> <td>    1.927</td>\n",
       "</tr>\n",
       "<tr>\n",
       "  <th>Genres_Role Playing</th>                          <td>    0.0868</td> <td>    0.100</td> <td>    0.868</td> <td> 0.385</td> <td>   -0.109</td> <td>    0.283</td>\n",
       "</tr>\n",
       "<tr>\n",
       "  <th>Genres_Role Playing;Action & Adventure</th>       <td>    0.2547</td> <td>    0.275</td> <td>    0.925</td> <td> 0.355</td> <td>   -0.285</td> <td>    0.794</td>\n",
       "</tr>\n",
       "<tr>\n",
       "  <th>Genres_Role Playing;Brain Games</th>              <td>    0.2693</td> <td>    0.528</td> <td>    0.510</td> <td> 0.610</td> <td>   -0.766</td> <td>    1.305</td>\n",
       "</tr>\n",
       "<tr>\n",
       "  <th>Genres_Role Playing;Pretend Play</th>             <td>    0.1405</td> <td>    0.276</td> <td>    0.510</td> <td> 0.610</td> <td>   -0.400</td> <td>    0.681</td>\n",
       "</tr>\n",
       "<tr>\n",
       "  <th>Genres_Shopping</th>                              <td>    2.4564</td> <td>    0.267</td> <td>    9.215</td> <td> 0.000</td> <td>    1.934</td> <td>    2.979</td>\n",
       "</tr>\n",
       "<tr>\n",
       "  <th>Genres_Simulation</th>                            <td>    0.1134</td> <td>    0.099</td> <td>    1.149</td> <td> 0.251</td> <td>   -0.080</td> <td>    0.307</td>\n",
       "</tr>\n",
       "<tr>\n",
       "  <th>Genres_Simulation;Action & Adventure</th>         <td>    0.2367</td> <td>    0.217</td> <td>    1.092</td> <td> 0.275</td> <td>   -0.188</td> <td>    0.662</td>\n",
       "</tr>\n",
       "<tr>\n",
       "  <th>Genres_Simulation;Education</th>                  <td>    0.1708</td> <td>    0.308</td> <td>    0.554</td> <td> 0.579</td> <td>   -0.433</td> <td>    0.775</td>\n",
       "</tr>\n",
       "<tr>\n",
       "  <th>Genres_Simulation;Pretend Play</th>               <td>    0.0286</td> <td>    0.528</td> <td>    0.054</td> <td> 0.957</td> <td>   -1.007</td> <td>    1.064</td>\n",
       "</tr>\n",
       "<tr>\n",
       "  <th>Genres_Social</th>                                <td>    2.4305</td> <td>    0.266</td> <td>    9.123</td> <td> 0.000</td> <td>    1.908</td> <td>    2.953</td>\n",
       "</tr>\n",
       "<tr>\n",
       "  <th>Genres_Sports</th>                                <td>    0.2539</td> <td>    0.370</td> <td>    0.686</td> <td> 0.493</td> <td>   -0.472</td> <td>    0.980</td>\n",
       "</tr>\n",
       "<tr>\n",
       "  <th>Genres_Sports;Action & Adventure</th>             <td>    0.0851</td> <td>    0.529</td> <td>    0.161</td> <td> 0.872</td> <td>   -0.951</td> <td>    1.121</td>\n",
       "</tr>\n",
       "<tr>\n",
       "  <th>Genres_Strategy</th>                              <td>    0.0915</td> <td>    0.108</td> <td>    0.845</td> <td> 0.398</td> <td>   -0.121</td> <td>    0.304</td>\n",
       "</tr>\n",
       "<tr>\n",
       "  <th>Genres_Strategy;Action & Adventure</th>           <td>    0.4303</td> <td>    0.379</td> <td>    1.136</td> <td> 0.256</td> <td>   -0.312</td> <td>    1.173</td>\n",
       "</tr>\n",
       "<tr>\n",
       "  <th>Genres_Strategy;Creativity</th>                   <td>         0</td> <td>        0</td> <td>      nan</td> <td>   nan</td> <td>        0</td> <td>        0</td>\n",
       "</tr>\n",
       "<tr>\n",
       "  <th>Genres_Strategy;Education</th>                    <td>    0.7646</td> <td>    0.528</td> <td>    1.448</td> <td> 0.148</td> <td>   -0.271</td> <td>    1.800</td>\n",
       "</tr>\n",
       "<tr>\n",
       "  <th>Genres_Tools</th>                                 <td>    2.3785</td> <td>    0.266</td> <td>    8.949</td> <td> 0.000</td> <td>    1.857</td> <td>    2.900</td>\n",
       "</tr>\n",
       "<tr>\n",
       "  <th>Genres_Travel & Local</th>                        <td>    2.4090</td> <td>    0.267</td> <td>    9.033</td> <td> 0.000</td> <td>    1.886</td> <td>    2.932</td>\n",
       "</tr>\n",
       "<tr>\n",
       "  <th>Genres_Travel & Local;Action & Adventure</th>     <td>         0</td> <td>        0</td> <td>      nan</td> <td>   nan</td> <td>        0</td> <td>        0</td>\n",
       "</tr>\n",
       "<tr>\n",
       "  <th>Genres_Trivia</th>                                <td>   -0.2056</td> <td>    0.133</td> <td>   -1.549</td> <td> 0.121</td> <td>   -0.466</td> <td>    0.055</td>\n",
       "</tr>\n",
       "<tr>\n",
       "  <th>Genres_Video Players & Editors</th>               <td>    0.0592</td> <td>    0.744</td> <td>    0.080</td> <td> 0.937</td> <td>   -1.399</td> <td>    1.517</td>\n",
       "</tr>\n",
       "<tr>\n",
       "  <th>Genres_Video Players & Editors;Creativity</th>    <td>   -0.0788</td> <td>    0.528</td> <td>   -0.149</td> <td> 0.881</td> <td>   -1.114</td> <td>    0.956</td>\n",
       "</tr>\n",
       "<tr>\n",
       "  <th>Genres_Video Players & Editors;Music & Video</th> <td>         0</td> <td>        0</td> <td>      nan</td> <td>   nan</td> <td>        0</td> <td>        0</td>\n",
       "</tr>\n",
       "<tr>\n",
       "  <th>Genres_Weather</th>                               <td>    2.4280</td> <td>    0.270</td> <td>    9.000</td> <td> 0.000</td> <td>    1.899</td> <td>    2.957</td>\n",
       "</tr>\n",
       "<tr>\n",
       "  <th>Genres_Word</th>                                  <td>    0.2102</td> <td>    0.136</td> <td>    1.542</td> <td> 0.123</td> <td>   -0.057</td> <td>    0.477</td>\n",
       "</tr>\n",
       "</table>\n",
       "<table class=\"simpletable\">\n",
       "<tr>\n",
       "  <th>Omnibus:</th>       <td>1930.530</td> <th>  Durbin-Watson:     </th> <td>   1.973</td> \n",
       "</tr>\n",
       "<tr>\n",
       "  <th>Prob(Omnibus):</th>  <td> 0.000</td>  <th>  Jarque-Bera (JB):  </th> <td>10580.941</td>\n",
       "</tr>\n",
       "<tr>\n",
       "  <th>Skew:</th>           <td>-1.690</td>  <th>  Prob(JB):          </th> <td>    0.00</td> \n",
       "</tr>\n",
       "<tr>\n",
       "  <th>Kurtosis:</th>       <td> 9.119</td>  <th>  Cond. No.          </th> <td>2.41e+21</td> \n",
       "</tr>\n",
       "</table><br/><br/>Notes:<br/>[1] Standard Errors assume that the covariance matrix of the errors is correctly specified.<br/>[2] The smallest eigenvalue is 8.92e-31. This might indicate that there are<br/>strong multicollinearity problems or that the design matrix is singular."
      ],
      "text/plain": [
       "<class 'statsmodels.iolib.summary.Summary'>\n",
       "\"\"\"\n",
       "                            OLS Regression Results                            \n",
       "==============================================================================\n",
       "Dep. Variable:                 Rating   R-squared:                       0.156\n",
       "Model:                            OLS   Adj. R-squared:                  0.136\n",
       "Method:                 Least Squares   F-statistic:                     7.812\n",
       "Date:                Fri, 22 Jan 2021   Prob (F-statistic):          4.62e-114\n",
       "Time:                        10:25:53   Log-Likelihood:                -3914.1\n",
       "No. Observations:                5196   AIC:                             8070.\n",
       "Df Residuals:                    5075   BIC:                             8863.\n",
       "Df Model:                         120                                         \n",
       "Covariance Type:            nonrobust                                         \n",
       "================================================================================================================\n",
       "                                                   coef    std err          t      P>|t|      [0.025      0.975]\n",
       "----------------------------------------------------------------------------------------------------------------\n",
       "Reviews                                          0.1822      0.007     25.051      0.000       0.168       0.196\n",
       "Size_in_KB                                    -9.07e-07   3.98e-07     -2.282      0.023   -1.69e-06   -1.28e-07\n",
       "Installs                                        -0.1591      0.007    -22.181      0.000      -0.173      -0.145\n",
       "Price                                           -0.0023      0.004     -0.602      0.547      -0.010       0.005\n",
       "Category_AUTO_AND_VEHICLES                       2.4277      0.268      9.047      0.000       1.902       2.954\n",
       "Category_BEAUTY                                  2.5829      0.271      9.547      0.000       2.053       3.113\n",
       "Category_BOOKS_AND_REFERENCE                     2.5285      0.267      9.480      0.000       2.006       3.051\n",
       "Category_BUSINESS                                2.4422      0.266      9.178      0.000       1.921       2.964\n",
       "Category_COMICS                                  3.4941      0.390      8.964      0.000       2.730       4.258\n",
       "Category_COMMUNICATION                           2.3812      0.266      8.937      0.000       1.859       2.904\n",
       "Category_DATING                                  2.3180      0.267      8.680      0.000       1.795       2.842\n",
       "Category_EDUCATION                               4.7046      0.543      8.664      0.000       3.640       5.769\n",
       "Category_ENTERTAINMENT                           4.6664      0.544      8.574      0.000       3.599       5.733\n",
       "Category_EVENTS                                  2.6283      0.270      9.746      0.000       2.100       3.157\n",
       "Category_FAMILY                                  4.7048      0.538      8.743      0.000       3.650       5.760\n",
       "Category_FINANCE                                 2.4339      0.266      9.147      0.000       1.912       2.956\n",
       "Category_FOOD_AND_DRINK                          2.4138      0.268      9.012      0.000       1.889       2.939\n",
       "Category_GAME                                    4.8469      0.532      9.103      0.000       3.803       5.891\n",
       "Category_HEALTH_AND_FITNESS                      2.4678      0.266      9.268      0.000       1.946       2.990\n",
       "Category_HOUSE_AND_HOME                          2.4546      0.268      9.144      0.000       1.928       2.981\n",
       "Category_LIBRARIES_AND_DEMO                      2.5150      0.269      9.361      0.000       1.988       3.042\n",
       "Category_LIFESTYLE                               3.1995      0.395      8.107      0.000       2.426       3.973\n",
       "Category_MAPS_AND_NAVIGATION                     2.3664      0.267      8.851      0.000       1.842       2.891\n",
       "Category_MEDICAL                                 2.4946      0.266      9.379      0.000       1.973       3.016\n",
       "Category_NEWS_AND_MAGAZINES                      2.4257      0.267      9.100      0.000       1.903       2.948\n",
       "Category_PARENTING                               3.8513      0.415      9.275      0.000       3.037       4.665\n",
       "Category_PERSONALIZATION                         2.5103      0.266      9.430      0.000       1.988       3.032\n",
       "Category_PHOTOGRAPHY                             2.4030      0.266      9.021      0.000       1.881       2.925\n",
       "Category_PRODUCTIVITY                            2.4445      0.266      9.180      0.000       1.922       2.967\n",
       "Category_SHOPPING                                2.4564      0.267      9.215      0.000       1.934       2.979\n",
       "Category_SOCIAL                                  2.4305      0.266      9.123      0.000       1.908       2.953\n",
       "Category_SPORTS                                  4.5907      0.648      7.082      0.000       3.320       5.861\n",
       "Category_TOOLS                                   2.3785      0.266      8.949      0.000       1.857       2.900\n",
       "Category_TRAVEL_AND_LOCAL                        2.4090      0.267      9.033      0.000       1.886       2.932\n",
       "Category_VIDEO_PLAYERS                           4.7048      0.911      5.163      0.000       2.918       6.491\n",
       "Category_WEATHER                                 2.4280      0.270      9.000      0.000       1.899       2.957\n",
       "Type_Paid                                       -0.0849      0.037     -2.298      0.022      -0.157      -0.012\n",
       "Content Rating_Everyone                         -0.2344      0.530     -0.442      0.658      -1.273       0.804\n",
       "Content Rating_Everyone 10+                     -0.2317      0.531     -0.436      0.663      -1.273       0.810\n",
       "Content Rating_Mature 17+                       -0.1979      0.531     -0.372      0.710      -1.240       0.844\n",
       "Content Rating_Teen                             -0.2142      0.530     -0.404      0.686      -1.253       0.825\n",
       "Content Rating_Unrated                          -0.2200      0.743     -0.296      0.767      -1.676       1.236\n",
       "Genres_Action;Action & Adventure                 0.3022      0.175      1.726      0.084      -0.041       0.645\n",
       "Genres_Adventure                                -0.0097      0.086     -0.112      0.911      -0.179       0.159\n",
       "Genres_Adventure;Action & Adventure              0.1403      0.314      0.447      0.655      -0.475       0.755\n",
       "Genres_Adventure;Brain Games                     0.4432      0.529      0.838      0.402      -0.593       1.480\n",
       "Genres_Adventure;Education                      -0.0138      0.379     -0.036      0.971      -0.758       0.730\n",
       "Genres_Arcade                                    0.0697      0.064      1.088      0.277      -0.056       0.195\n",
       "Genres_Arcade;Action & Adventure                 0.2875      0.196      1.470      0.142      -0.096       0.671\n",
       "Genres_Arcade;Pretend Play                       0.4746      0.528      0.898      0.369      -0.561       1.510\n",
       "Genres_Art & Design                              5.2071      0.539      9.662      0.000       4.151       6.264\n",
       "Genres_Art & Design;Creativity                   5.3208      0.591      8.999      0.000       4.162       6.480\n",
       "Genres_Art & Design;Pretend Play                 0.2758      0.528      0.522      0.602      -0.760       1.311\n",
       "Genres_Auto & Vehicles                           2.4277      0.268      9.047      0.000       1.902       2.954\n",
       "Genres_Beauty                                    2.5829      0.271      9.547      0.000       2.053       3.113\n",
       "Genres_Board                                     0.0593      0.112      0.528      0.598      -0.161       0.280\n",
       "Genres_Board;Action & Adventure                  0.0918      0.314      0.292      0.770      -0.523       0.707\n",
       "Genres_Board;Brain Games                         0.2433      0.205      1.185      0.236      -0.159       0.646\n",
       "Genres_Board;Pretend Play                        0.8958      0.529      1.694      0.090      -0.141       1.932\n",
       "Genres_Books & Reference                         2.5285      0.267      9.480      0.000       2.006       3.051\n",
       "Genres_Books & Reference;Education               0.1823      0.379      0.481      0.630      -0.560       0.925\n",
       "Genres_Business                                  2.4422      0.266      9.178      0.000       1.921       2.964\n",
       "Genres_Card                                     -0.1486      0.109     -1.361      0.174      -0.363       0.065\n",
       "Genres_Card;Action & Adventure                  -0.0468      0.380     -0.123      0.902      -0.792       0.699\n",
       "Genres_Card;Brain Games                       4.886e-12    3.7e-11      0.132      0.895   -6.76e-11    7.74e-11\n",
       "Genres_Casino                                    0.0942      0.112      0.844      0.399      -0.125       0.313\n",
       "Genres_Casual                                    0.0694      0.099      0.703      0.482      -0.124       0.263\n",
       "Genres_Casual;Action & Adventure                 0.3210      0.188      1.707      0.088      -0.048       0.690\n",
       "Genres_Casual;Brain Games                        0.5943      0.202      2.949      0.003       0.199       0.989\n",
       "Genres_Casual;Creativity                         0.2602      0.245      1.061      0.289      -0.220       0.741\n",
       "Genres_Casual;Education                          0.2764      0.379      0.730      0.466      -0.466       1.019\n",
       "Genres_Casual;Music & Video                      0.2893      0.379      0.763      0.446      -0.454       1.033\n",
       "Genres_Casual;Pretend Play                       0.0994      0.156      0.636      0.525      -0.207       0.406\n",
       "Genres_Comics                                    1.3601      0.248      5.491      0.000       0.874       1.846\n",
       "Genres_Comics;Creativity                         2.1340      0.394      5.422      0.000       1.362       2.906\n",
       "Genres_Communication                             2.3812      0.266      8.937      0.000       1.859       2.904\n",
       "Genres_Dating                                    2.3180      0.267      8.680      0.000       1.795       2.842\n",
       "Genres_Education                                 0.3321      0.097      3.428      0.001       0.142       0.522\n",
       "Genres_Education;Action & Adventure              0.4629      0.250      1.852      0.064      -0.027       0.953\n",
       "Genres_Education;Brain Games                     0.2205      0.533      0.414      0.679      -0.824       1.265\n",
       "Genres_Education;Creativity                      0.7303      0.278      2.626      0.009       0.185       1.275\n",
       "Genres_Education;Education                       0.4433      0.134      3.299      0.001       0.180       0.707\n",
       "Genres_Education;Music & Video                   0.5088      0.528      0.964      0.335      -0.526       1.544\n",
       "Genres_Education;Pretend Play                    0.5230      0.157      3.335      0.001       0.216       0.831\n",
       "Genres_Educational                               0.0947      0.147      0.645      0.519      -0.193       0.382\n",
       "Genres_Educational;Action & Adventure            0.3253      0.314      1.037      0.300      -0.290       0.941\n",
       "Genres_Educational;Brain Games                   0.6963      0.379      1.837      0.066      -0.047       1.439\n",
       "Genres_Educational;Creativity                   -0.0152      0.314     -0.048      0.962      -0.631       0.601\n",
       "Genres_Educational;Education                     0.3644      0.137      2.666      0.008       0.096       0.632\n",
       "Genres_Educational;Pretend Play                  0.2735      0.166      1.644      0.100      -0.053       0.600\n",
       "Genres_Entertainment                             0.1242      0.096      1.297      0.195      -0.064       0.312\n",
       "Genres_Entertainment;Action & Adventure          0.2754      0.314      0.878      0.380      -0.340       0.891\n",
       "Genres_Entertainment;Brain Games                 0.3009      0.233      1.293      0.196      -0.155       0.757\n",
       "Genres_Entertainment;Creativity                  0.5682      0.379      1.499      0.134      -0.175       1.311\n",
       "Genres_Entertainment;Education                   0.5150      0.528      0.975      0.329      -0.520       1.550\n",
       "Genres_Entertainment;Music & Video               0.1460      0.198      0.739      0.460      -0.241       0.533\n",
       "Genres_Entertainment;Pretend Play               -0.1127      0.379     -0.297      0.766      -0.856       0.630\n",
       "Genres_Events                                    2.6283      0.270      9.746      0.000       2.100       3.157\n",
       "Genres_Finance                                   2.4339      0.266      9.147      0.000       1.912       2.956\n",
       "Genres_Food & Drink                              2.4138      0.268      9.012      0.000       1.889       2.939\n",
       "Genres_Health & Fitness                          2.4678      0.266      9.268      0.000       1.946       2.990\n",
       "Genres_Health & Fitness;Action & Adventure      -0.1821      0.528     -0.345      0.730      -1.218       0.853\n",
       "Genres_Health & Fitness;Education                0.4353      0.528      0.824      0.410      -0.600       1.470\n",
       "Genres_House & Home                              2.4546      0.268      9.144      0.000       1.928       2.981\n",
       "Genres_Libraries & Demo                          2.5150      0.269      9.361      0.000       1.988       3.042\n",
       "Genres_Lifestyle                                 1.6702      0.249      6.705      0.000       1.182       2.158\n",
       "Genres_Lifestyle;Pretend Play                    1.5293      0.390      3.918      0.000       0.764       2.294\n",
       "Genres_Maps & Navigation                         2.3664      0.267      8.851      0.000       1.842       2.891\n",
       "Genres_Medical                                   2.4946      0.266      9.379      0.000       1.973       3.016\n",
       "Genres_Music                                    -0.1950      0.169     -1.153      0.249      -0.526       0.137\n",
       "Genres_Music & Audio;Music & Video            8.551e-15   1.25e-12      0.007      0.995   -2.44e-12    2.45e-12\n",
       "Genres_Music;Music & Video                       0.7798      0.528      1.476      0.140      -0.256       1.815\n",
       "Genres_News & Magazines                          2.4257      0.267      9.100      0.000       1.903       2.948\n",
       "Genres_Parenting                                 1.3752      0.197      6.991      0.000       0.990       1.761\n",
       "Genres_Parenting;Brain Games                  4.856e-13   2.41e-12      0.202      0.840   -4.23e-12     5.2e-12\n",
       "Genres_Parenting;Education                       0.8927      0.315      2.837      0.005       0.276       1.510\n",
       "Genres_Parenting;Music & Video                   1.5833      0.255      6.207      0.000       1.083       2.083\n",
       "Genres_Personalization                           2.5103      0.266      9.430      0.000       1.988       3.032\n",
       "Genres_Photography                               2.4030      0.266      9.021      0.000       1.881       2.925\n",
       "Genres_Productivity                              2.4445      0.266      9.180      0.000       1.922       2.967\n",
       "Genres_Puzzle                                    0.2427      0.099      2.453      0.014       0.049       0.437\n",
       "Genres_Puzzle;Action & Adventure                 0.2181      0.314      0.695      0.487      -0.397       0.834\n",
       "Genres_Puzzle;Brain Games                        0.2940      0.176      1.675      0.094      -0.050       0.638\n",
       "Genres_Puzzle;Creativity                         0.3085      0.379      0.814      0.415      -0.434       1.051\n",
       "Genres_Puzzle;Education                          0.7552      0.528      1.430      0.153      -0.280       1.790\n",
       "Genres_Racing                                   -0.0993      0.083     -1.196      0.232      -0.262       0.064\n",
       "Genres_Racing;Action & Adventure                 0.2693      0.196      1.371      0.170      -0.116       0.654\n",
       "Genres_Racing;Pretend Play                       0.8912      0.528      1.687      0.092      -0.145       1.927\n",
       "Genres_Role Playing                              0.0868      0.100      0.868      0.385      -0.109       0.283\n",
       "Genres_Role Playing;Action & Adventure           0.2547      0.275      0.925      0.355      -0.285       0.794\n",
       "Genres_Role Playing;Brain Games                  0.2693      0.528      0.510      0.610      -0.766       1.305\n",
       "Genres_Role Playing;Pretend Play                 0.1405      0.276      0.510      0.610      -0.400       0.681\n",
       "Genres_Shopping                                  2.4564      0.267      9.215      0.000       1.934       2.979\n",
       "Genres_Simulation                                0.1134      0.099      1.149      0.251      -0.080       0.307\n",
       "Genres_Simulation;Action & Adventure             0.2367      0.217      1.092      0.275      -0.188       0.662\n",
       "Genres_Simulation;Education                      0.1708      0.308      0.554      0.579      -0.433       0.775\n",
       "Genres_Simulation;Pretend Play                   0.0286      0.528      0.054      0.957      -1.007       1.064\n",
       "Genres_Social                                    2.4305      0.266      9.123      0.000       1.908       2.953\n",
       "Genres_Sports                                    0.2539      0.370      0.686      0.493      -0.472       0.980\n",
       "Genres_Sports;Action & Adventure                 0.0851      0.529      0.161      0.872      -0.951       1.121\n",
       "Genres_Strategy                                  0.0915      0.108      0.845      0.398      -0.121       0.304\n",
       "Genres_Strategy;Action & Adventure               0.4303      0.379      1.136      0.256      -0.312       1.173\n",
       "Genres_Strategy;Creativity                            0          0        nan        nan           0           0\n",
       "Genres_Strategy;Education                        0.7646      0.528      1.448      0.148      -0.271       1.800\n",
       "Genres_Tools                                     2.3785      0.266      8.949      0.000       1.857       2.900\n",
       "Genres_Travel & Local                            2.4090      0.267      9.033      0.000       1.886       2.932\n",
       "Genres_Travel & Local;Action & Adventure              0          0        nan        nan           0           0\n",
       "Genres_Trivia                                   -0.2056      0.133     -1.549      0.121      -0.466       0.055\n",
       "Genres_Video Players & Editors                   0.0592      0.744      0.080      0.937      -1.399       1.517\n",
       "Genres_Video Players & Editors;Creativity       -0.0788      0.528     -0.149      0.881      -1.114       0.956\n",
       "Genres_Video Players & Editors;Music & Video          0          0        nan        nan           0           0\n",
       "Genres_Weather                                   2.4280      0.270      9.000      0.000       1.899       2.957\n",
       "Genres_Word                                      0.2102      0.136      1.542      0.123      -0.057       0.477\n",
       "==============================================================================\n",
       "Omnibus:                     1930.530   Durbin-Watson:                   1.973\n",
       "Prob(Omnibus):                  0.000   Jarque-Bera (JB):            10580.941\n",
       "Skew:                          -1.690   Prob(JB):                         0.00\n",
       "Kurtosis:                       9.119   Cond. No.                     2.41e+21\n",
       "==============================================================================\n",
       "\n",
       "Notes:\n",
       "[1] Standard Errors assume that the covariance matrix of the errors is correctly specified.\n",
       "[2] The smallest eigenvalue is 8.92e-31. This might indicate that there are\n",
       "strong multicollinearity problems or that the design matrix is singular.\n",
       "\"\"\""
      ]
     },
     "execution_count": 57,
     "metadata": {},
     "output_type": "execute_result"
    }
   ],
   "source": [
    "model_fit = OLS(y_train,X_train).fit()\n",
    "model_fit.summary()"
   ]
  },
  {
   "cell_type": "code",
   "execution_count": 58,
   "metadata": {},
   "outputs": [
    {
     "name": "stdout",
     "output_type": "stream",
     "text": [
      "R2_Score= 0.13241526834064354\n",
      "Root_Mean_Squared_Error(RMSE)= 0.4972361375688641\n"
     ]
    }
   ],
   "source": [
    "print('R2_Score=',r2_score(y_test,y_pred))\n",
    "print('Root_Mean_Squared_Error(RMSE)=',np.sqrt(ms(y_test,y_pred)))"
   ]
  },
  {
   "cell_type": "code",
   "execution_count": 65,
   "metadata": {},
   "outputs": [
    {
     "data": {
      "text/html": [
       "<table class=\"simpletable\">\n",
       "<caption>OLS Regression Results</caption>\n",
       "<tr>\n",
       "  <th>Dep. Variable:</th>         <td>Rating</td>      <th>  R-squared:         </th> <td>   0.108</td> \n",
       "</tr>\n",
       "<tr>\n",
       "  <th>Model:</th>                   <td>OLS</td>       <th>  Adj. R-squared:    </th> <td>   0.108</td> \n",
       "</tr>\n",
       "<tr>\n",
       "  <th>Method:</th>             <td>Least Squares</td>  <th>  F-statistic:       </th> <td>   225.0</td> \n",
       "</tr>\n",
       "<tr>\n",
       "  <th>Date:</th>             <td>Fri, 22 Jan 2021</td> <th>  Prob (F-statistic):</th> <td>1.42e-182</td>\n",
       "</tr>\n",
       "<tr>\n",
       "  <th>Time:</th>                 <td>10:35:35</td>     <th>  Log-Likelihood:    </th> <td> -5695.0</td> \n",
       "</tr>\n",
       "<tr>\n",
       "  <th>No. Observations:</th>      <td>  7423</td>      <th>  AIC:               </th> <td>1.140e+04</td>\n",
       "</tr>\n",
       "<tr>\n",
       "  <th>Df Residuals:</th>          <td>  7418</td>      <th>  BIC:               </th> <td>1.143e+04</td>\n",
       "</tr>\n",
       "<tr>\n",
       "  <th>Df Model:</th>              <td>     4</td>      <th>                     </th>     <td> </td>    \n",
       "</tr>\n",
       "<tr>\n",
       "  <th>Covariance Type:</th>      <td>nonrobust</td>    <th>                     </th>     <td> </td>    \n",
       "</tr>\n",
       "</table>\n",
       "<table class=\"simpletable\">\n",
       "<tr>\n",
       "       <td></td>         <th>coef</th>     <th>std err</th>      <th>t</th>      <th>P>|t|</th>  <th>[0.025</th>    <th>0.975]</th>  \n",
       "</tr>\n",
       "<tr>\n",
       "  <th>Intercept</th>  <td>    4.5854</td> <td>    0.028</td> <td>  161.497</td> <td> 0.000</td> <td>    4.530</td> <td>    4.641</td>\n",
       "</tr>\n",
       "<tr>\n",
       "  <th>Price</th>      <td>   -0.0034</td> <td>    0.003</td> <td>   -1.316</td> <td> 0.188</td> <td>   -0.008</td> <td>    0.002</td>\n",
       "</tr>\n",
       "<tr>\n",
       "  <th>Installs</th>   <td>   -0.1438</td> <td>    0.006</td> <td>  -25.717</td> <td> 0.000</td> <td>   -0.155</td> <td>   -0.133</td>\n",
       "</tr>\n",
       "<tr>\n",
       "  <th>Size_in_KB</th> <td>-1.865e-07</td> <td> 2.84e-07</td> <td>   -0.657</td> <td> 0.511</td> <td>-7.43e-07</td> <td>  3.7e-07</td>\n",
       "</tr>\n",
       "<tr>\n",
       "  <th>Reviews</th>    <td>    0.1646</td> <td>    0.006</td> <td>   28.905</td> <td> 0.000</td> <td>    0.153</td> <td>    0.176</td>\n",
       "</tr>\n",
       "</table>\n",
       "<table class=\"simpletable\">\n",
       "<tr>\n",
       "  <th>Omnibus:</th>       <td>2567.400</td> <th>  Durbin-Watson:     </th> <td>   1.816</td> \n",
       "</tr>\n",
       "<tr>\n",
       "  <th>Prob(Omnibus):</th>  <td> 0.000</td>  <th>  Jarque-Bera (JB):  </th> <td>12052.686</td>\n",
       "</tr>\n",
       "<tr>\n",
       "  <th>Skew:</th>           <td>-1.618</td>  <th>  Prob(JB):          </th> <td>    0.00</td> \n",
       "</tr>\n",
       "<tr>\n",
       "  <th>Kurtosis:</th>       <td> 8.338</td>  <th>  Cond. No.          </th> <td>1.51e+05</td> \n",
       "</tr>\n",
       "</table><br/><br/>Notes:<br/>[1] Standard Errors assume that the covariance matrix of the errors is correctly specified.<br/>[2] The condition number is large, 1.51e+05. This might indicate that there are<br/>strong multicollinearity or other numerical problems."
      ],
      "text/plain": [
       "<class 'statsmodels.iolib.summary.Summary'>\n",
       "\"\"\"\n",
       "                            OLS Regression Results                            \n",
       "==============================================================================\n",
       "Dep. Variable:                 Rating   R-squared:                       0.108\n",
       "Model:                            OLS   Adj. R-squared:                  0.108\n",
       "Method:                 Least Squares   F-statistic:                     225.0\n",
       "Date:                Fri, 22 Jan 2021   Prob (F-statistic):          1.42e-182\n",
       "Time:                        10:35:35   Log-Likelihood:                -5695.0\n",
       "No. Observations:                7423   AIC:                         1.140e+04\n",
       "Df Residuals:                    7418   BIC:                         1.143e+04\n",
       "Df Model:                           4                                         \n",
       "Covariance Type:            nonrobust                                         \n",
       "==============================================================================\n",
       "                 coef    std err          t      P>|t|      [0.025      0.975]\n",
       "------------------------------------------------------------------------------\n",
       "Intercept      4.5854      0.028    161.497      0.000       4.530       4.641\n",
       "Price         -0.0034      0.003     -1.316      0.188      -0.008       0.002\n",
       "Installs      -0.1438      0.006    -25.717      0.000      -0.155      -0.133\n",
       "Size_in_KB -1.865e-07   2.84e-07     -0.657      0.511   -7.43e-07     3.7e-07\n",
       "Reviews        0.1646      0.006     28.905      0.000       0.153       0.176\n",
       "==============================================================================\n",
       "Omnibus:                     2567.400   Durbin-Watson:                   1.816\n",
       "Prob(Omnibus):                  0.000   Jarque-Bera (JB):            12052.686\n",
       "Skew:                          -1.618   Prob(JB):                         0.00\n",
       "Kurtosis:                       8.338   Cond. No.                     1.51e+05\n",
       "==============================================================================\n",
       "\n",
       "Notes:\n",
       "[1] Standard Errors assume that the covariance matrix of the errors is correctly specified.\n",
       "[2] The condition number is large, 1.51e+05. This might indicate that there are\n",
       "strong multicollinearity or other numerical problems.\n",
       "\"\"\""
      ]
     },
     "execution_count": 65,
     "metadata": {},
     "output_type": "execute_result"
    }
   ],
   "source": [
    "import statsmodels.formula.api as sm\n",
    "model=sm.ols(formula='Rating~Price+Installs+Size_in_KB+Reviews',data=inp2)\n",
    "model_fit = model.fit()\n",
    "model_fit.summary()"
   ]
  },
  {
   "cell_type": "code",
   "execution_count": null,
   "metadata": {},
   "outputs": [],
   "source": []
  }
 ],
 "metadata": {
  "kernelspec": {
   "display_name": "Python 3",
   "language": "python",
   "name": "python3"
  },
  "language_info": {
   "codemirror_mode": {
    "name": "ipython",
    "version": 3
   },
   "file_extension": ".py",
   "mimetype": "text/x-python",
   "name": "python",
   "nbconvert_exporter": "python",
   "pygments_lexer": "ipython3",
   "version": "3.8.5"
  }
 },
 "nbformat": 4,
 "nbformat_minor": 4
}
